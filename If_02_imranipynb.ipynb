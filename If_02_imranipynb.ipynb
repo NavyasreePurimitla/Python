{
  "nbformat": 4,
  "nbformat_minor": 0,
  "metadata": {
    "colab": {
      "provenance": [],
      "authorship_tag": "ABX9TyPF8D+yMH8ornynHZZr7svS",
      "include_colab_link": true
    },
    "kernelspec": {
      "name": "python3",
      "display_name": "Python 3"
    },
    "language_info": {
      "name": "python"
    }
  },
  "cells": [
    {
      "cell_type": "markdown",
      "metadata": {
        "id": "view-in-github",
        "colab_type": "text"
      },
      "source": [
        "<a href=\"https://colab.research.google.com/github/NavyasreePurimitla/Python/blob/main/If_02_imranipynb.ipynb\" target=\"_parent\"><img src=\"https://colab.research.google.com/assets/colab-badge.svg\" alt=\"Open In Colab\"/></a>"
      ]
    },
    {
      "cell_type": "code",
      "execution_count": 2,
      "metadata": {
        "colab": {
          "base_uri": "https://localhost:8080/"
        },
        "id": "qFJL2HrLR78j",
        "outputId": "18ed546e-d292-445c-e553-6f26a8e0e7d4"
      },
      "outputs": [
        {
          "output_type": "stream",
          "name": "stdout",
          "text": [
            "enter the name of the student: navya\n",
            "8.88 CGPA\n"
          ]
        }
      ],
      "source": [
        "\n",
        "# if, elif, else\n",
        "a=(input(\"enter the name of the student: \"))\n",
        "if a==\"madhan\":\n",
        "    print(\"8.71 CGPA\")\n",
        "elif a==\"navya\":\n",
        "    print(\"8.88 CGPA\")\n",
        "elif a==\"vishal\":\n",
        "    print(\"8.91 CGPA\")\n",
        "elif a==\"imran\":\n",
        "    print(\"8.61 CGPA\")\n",
        "elif a==\"bharadwaj\":\n",
        "    print(\"8.58 CGPA\")\n",
        "elif a==\"supraja\":\n",
        "    print(\"8.3 CGPA\")\n",
        "elif a==\"kavya\":\n",
        "    print(\"7 CGPA\")\n",
        "else:\n",
        "    print(\"enter the correct name or vaild name in class\")"
      ]
    }
  ]
}