{
  "nbformat": 4,
  "nbformat_minor": 0,
  "metadata": {
    "colab": {
      "provenance": [],
      "authorship_tag": "ABX9TyPOeAQg0bWeXBPaEbA4hb8v",
      "include_colab_link": true
    },
    "kernelspec": {
      "name": "python3",
      "display_name": "Python 3"
    },
    "language_info": {
      "name": "python"
    }
  },
  "cells": [
    {
      "cell_type": "markdown",
      "metadata": {
        "id": "view-in-github",
        "colab_type": "text"
      },
      "source": [
        "<a href=\"https://colab.research.google.com/github/NavyasreePurimitla/Python/blob/main/Tuple01.ipynb\" target=\"_parent\"><img src=\"https://colab.research.google.com/assets/colab-badge.svg\" alt=\"Open In Colab\"/></a>"
      ]
    },
    {
      "cell_type": "code",
      "execution_count": 3,
      "metadata": {
        "colab": {
          "base_uri": "https://localhost:8080/"
        },
        "id": "9cKBf2wI-8z_",
        "outputId": "ac44ab12-e543-462d-a47e-a35bfd22a4d5"
      },
      "outputs": [
        {
          "output_type": "stream",
          "name": "stdout",
          "text": [
            "(1, 2, 3, 4, 5, 6, 2, 3, 5, 8, 6, 7)\n",
            "1\n",
            "2\n",
            "3\n",
            "4\n",
            "5\n",
            "6\n",
            "False\n",
            "True\n",
            "(1, 2, 3, 4, 5, 6, 1, 2, 3, 4, 5, 6, 1, 2, 3, 4, 5, 6)\n"
          ]
        }
      ],
      "source": [
        "\n",
        "c=(1,2,3,4,5,6)\n",
        "b=(2,3,5,8,6,7)\n",
        "\n",
        "# concatenation\n",
        "print(c+b)\n",
        "\n",
        "# iteration\n",
        "for i in c:\n",
        "    print(i)\n",
        "\n",
        "# membership operations\n",
        "print(12 in c)\n",
        "print(8 in b)\n",
        "\n",
        "# repeation\n",
        "print(c*3)"
      ]
    }
  ]
}