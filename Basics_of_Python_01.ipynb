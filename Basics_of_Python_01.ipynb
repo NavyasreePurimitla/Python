{
  "nbformat": 4,
  "nbformat_minor": 0,
  "metadata": {
    "colab": {
      "provenance": [],
      "authorship_tag": "ABX9TyOmfbMFxXztOfUjOVVCRPlX",
      "include_colab_link": true
    },
    "kernelspec": {
      "name": "python3",
      "display_name": "Python 3"
    },
    "language_info": {
      "name": "python"
    }
  },
  "cells": [
    {
      "cell_type": "markdown",
      "metadata": {
        "id": "view-in-github",
        "colab_type": "text"
      },
      "source": [
        "<a href=\"https://colab.research.google.com/github/NavyasreePurimitla/Python/blob/main/Basics_of_Python_01.ipynb\" target=\"_parent\"><img src=\"https://colab.research.google.com/assets/colab-badge.svg\" alt=\"Open In Colab\"/></a>"
      ]
    },
    {
      "cell_type": "markdown",
      "source": [
        "**Dynamic Typing**\n",
        "\n",
        " We can assign more tham one value to a variable but the variable stores last updated value. Previous values are given to garbage value\n"
      ],
      "metadata": {
        "id": "LkxJkHqT-Idm"
      }
    },
    {
      "cell_type": "code",
      "source": [
        "x = 10\n",
        "x = \"Now a string\"\n",
        "x"
      ],
      "metadata": {
        "colab": {
          "base_uri": "https://localhost:8080/",
          "height": 35
        },
        "id": "9N31Rwsl-aOp",
        "outputId": "cd0097d8-14f0-4a4f-d718-cc9962247d54"
      },
      "execution_count": null,
      "outputs": [
        {
          "output_type": "execute_result",
          "data": {
            "text/plain": [
              "'Now a string'"
            ],
            "application/vnd.google.colaboratory.intrinsic+json": {
              "type": "string"
            }
          },
          "metadata": {},
          "execution_count": 13
        }
      ]
    },
    {
      "cell_type": "markdown",
      "source": [
        "**Multiple Assignments**\n",
        "\n",
        "In  python we can assign one value to multiple variables in a single line\n"
      ],
      "metadata": {
        "id": "RA3B3rwY-Igr"
      }
    },
    {
      "cell_type": "code",
      "source": [
        "a = b = c = 200\n",
        "print(a,b,c)"
      ],
      "metadata": {
        "colab": {
          "base_uri": "https://localhost:8080/"
        },
        "id": "CHdmMNqI40Pg",
        "outputId": "59fe3590-9fde-4a67-88a5-3ced97147a08"
      },
      "execution_count": null,
      "outputs": [
        {
          "output_type": "stream",
          "name": "stdout",
          "text": [
            "200 200 200\n"
          ]
        }
      ]
    },
    {
      "cell_type": "code",
      "source": [
        "#Example Usage of Type()\n",
        "print(\"Usage of Type()\")\n",
        "print()\n",
        "n = 56\n",
        "f = 35.44\n",
        "g = \"Good Morning!\"\n",
        "h = [1,4,6,7,9]\n",
        "d = {'key' : 'value'}\n",
        "bool = True\n",
        "print(type(n))\n",
        "print(type(f))\n",
        "print(type(g))\n",
        "print(type(h))\n",
        "print(type(d))\n",
        "print(type(bool))"
      ],
      "metadata": {
        "colab": {
          "base_uri": "https://localhost:8080/"
        },
        "id": "EkUHY6xM5ywV",
        "outputId": "109ceb36-ff4c-4cb3-f19c-48728167e4f7"
      },
      "execution_count": null,
      "outputs": [
        {
          "output_type": "stream",
          "name": "stdout",
          "text": [
            "Usage of Type()\n",
            "\n",
            "<class 'int'>\n",
            "<class 'float'>\n",
            "<class 'str'>\n",
            "<class 'list'>\n",
            "<class 'dict'>\n",
            "<class 'bool'>\n"
          ]
        }
      ]
    },
    {
      "cell_type": "markdown",
      "source": [
        "Note:\n",
        "\n",
        "1. Python does not support array becaues it has same capabilities\n",
        "2. If they want to use array we required numpy\n",
        "#Python numbers\n",
        "In python, numbers are a core data-type essential for performing arithmaetic operations and calculations including integers, floating-point numbers and complex numbers"
      ],
      "metadata": {
        "id": "M5E4KyXi71va"
      }
    },
    {
      "cell_type": "code",
      "source": [
        "a = 3.14      #A positive float\n",
        "b = -0.99     #A negative float\n",
        "c = 0.0      # A float value is a zero"
      ],
      "metadata": {
        "id": "C1VeMPOS6ykA"
      },
      "execution_count": null,
      "outputs": []
    },
    {
      "cell_type": "markdown",
      "source": [
        "**Python Boolean**\n",
        "\n",
        "Python Boolean type is one of the built-in data types provided by Python, which represents one of the two values i.e. truth values of the expressions"
      ],
      "metadata": {
        "id": "ouFwXFUw7_rq"
      }
    },
    {
      "cell_type": "code",
      "source": [
        "a = True\n",
        "print(type(a))\n",
        "\n",
        "b = False\n",
        "print(type(b))\n",
        "print(\"vantharr\")"
      ],
      "metadata": {
        "colab": {
          "base_uri": "https://localhost:8080/"
        },
        "id": "10_jC3yi62wF",
        "outputId": "0ea592a7-5ca6-400d-b405-b5e53e43ae48"
      },
      "execution_count": null,
      "outputs": [
        {
          "output_type": "stream",
          "name": "stdout",
          "text": [
            "<class 'bool'>\n",
            "<class 'bool'>\n",
            "vantharr\n"
          ]
        }
      ]
    },
    {
      "cell_type": "markdown",
      "source": [
        "**Python String**\n",
        "\n",
        "String is a data type in python is the single character or group of character encoded with double quoted comma."
      ],
      "metadata": {
        "id": "crLF6L269TcN"
      }
    },
    {
      "cell_type": "code",
      "source": [
        "s = \"number 1 institue for Data Science for all @vantharr\"\n",
        "print(s)"
      ],
      "metadata": {
        "colab": {
          "base_uri": "https://localhost:8080/"
        },
        "id": "gejF9G6a9yBf",
        "outputId": "e2192734-e203-46e8-b824-1160312d0bff"
      },
      "execution_count": null,
      "outputs": [
        {
          "output_type": "stream",
          "name": "stdout",
          "text": [
            "number 1 institue for Data Science for all @vantharr\n"
          ]
        }
      ]
    },
    {
      "cell_type": "markdown",
      "source": [
        "**Operators**\n",
        "\n",
        "    Python Operators are symbols that perform operations on values and variables.\n",
        "1. Arithmetic Operators\n",
        "2. Assignment Operators\n",
        "3. Comparision Operators\n",
        "4. Logical Operators\n",
        "5. Bitwise Operators"
      ],
      "metadata": {
        "id": "j8HmXrrwHv3G"
      }
    },
    {
      "cell_type": "markdown",
      "source": [
        "**[01]  Arithmetic Operators**"
      ],
      "metadata": {
        "id": "NicvbUAnIT-O"
      }
    },
    {
      "cell_type": "code",
      "source": [
        "#Variables\n",
        "a = int(input(\"Enter the value of a: \"))\n",
        "b = int(input(\"Enter the value of b: \"))\n",
        "\n",
        "print(\"\\nAddition: \", a+b)\n",
        "print(\"\\nSubtraction: \", a-b)\n",
        "print(\"\\nMultiplication: \", a*b)\n",
        "print(\"\\nDivision: \", a/b)\n",
        "print(\"\\nModulus: \", a%b)\n",
        "print(\"\\nExponent: \", a**b)\n",
        "print(\"\\nFloor Division: \", a//b)"
      ],
      "metadata": {
        "colab": {
          "base_uri": "https://localhost:8080/"
        },
        "id": "fqzHUVE7I-nt",
        "outputId": "05ef4429-5d99-4bec-d6cb-cf45e58e3df7"
      },
      "execution_count": null,
      "outputs": [
        {
          "output_type": "stream",
          "name": "stdout",
          "text": [
            "Enter the value of a: 33\n",
            "Enter the value of b: 20\n",
            "\n",
            "Addition:  53\n",
            "\n",
            "Subtraction:  13\n",
            "\n",
            "Multiplication:  660\n",
            "\n",
            "Division:  1.65\n",
            "\n",
            "Modulus:  13\n",
            "\n",
            "Exponent:  2345734188103679287078463273601\n",
            "\n",
            "Floor Division:  1\n"
          ]
        }
      ]
    }
  ]
}