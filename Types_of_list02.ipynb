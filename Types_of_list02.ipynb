{
  "nbformat": 4,
  "nbformat_minor": 0,
  "metadata": {
    "colab": {
      "provenance": [],
      "authorship_tag": "ABX9TyNLw22tuLbe3kKgQHz7J2og",
      "include_colab_link": true
    },
    "kernelspec": {
      "name": "python3",
      "display_name": "Python 3"
    },
    "language_info": {
      "name": "python"
    }
  },
  "cells": [
    {
      "cell_type": "markdown",
      "metadata": {
        "id": "view-in-github",
        "colab_type": "text"
      },
      "source": [
        "<a href=\"https://colab.research.google.com/github/NavyasreePurimitla/Python/blob/main/Types_of_list02.ipynb\" target=\"_parent\"><img src=\"https://colab.research.google.com/assets/colab-badge.svg\" alt=\"Open In Colab\"/></a>"
      ]
    },
    {
      "cell_type": "code",
      "execution_count": 1,
      "metadata": {
        "colab": {
          "base_uri": "https://localhost:8080/"
        },
        "id": "PZDZO0qqi-Vs",
        "outputId": "8f5a7a4e-22a5-46ef-af31-efd3b4f5fec6"
      },
      "outputs": [
        {
          "output_type": "stream",
          "name": "stdout",
          "text": [
            "second row:  [6, 7, 8]\n",
            "Elements of row 3, column 2:  2\n",
            "Matrix Formate: \n",
            "[1, 3, 4]\n",
            "[6, 7, 8]\n",
            "[9, 2, 5]\n"
          ]
        }
      ],
      "source": [
        "#Creating a nested list\n",
        "nested_list=[\n",
        "    [1,3,4],\n",
        "    [6,7,8],\n",
        "    [9,2,5]\n",
        "]\n",
        "\n",
        "#accessing a nested list\n",
        "print(\"second row: \",nested_list[1])\n",
        "print(\"Elements of row 3, column 2: \",nested_list[2][1])\n",
        "\n",
        "print(\"Matrix Formate: \")\n",
        "for row in nested_list:\n",
        "    print(row)\n"
      ]
    }
  ]
}