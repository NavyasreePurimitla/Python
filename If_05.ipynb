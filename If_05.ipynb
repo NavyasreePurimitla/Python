{
  "nbformat": 4,
  "nbformat_minor": 0,
  "metadata": {
    "colab": {
      "provenance": [],
      "authorship_tag": "ABX9TyPNI9xf029OIo1ssdZEtIwP",
      "include_colab_link": true
    },
    "kernelspec": {
      "name": "python3",
      "display_name": "Python 3"
    },
    "language_info": {
      "name": "python"
    }
  },
  "cells": [
    {
      "cell_type": "markdown",
      "metadata": {
        "id": "view-in-github",
        "colab_type": "text"
      },
      "source": [
        "<a href=\"https://colab.research.google.com/github/NavyasreePurimitla/Python/blob/main/If_05.ipynb\" target=\"_parent\"><img src=\"https://colab.research.google.com/assets/colab-badge.svg\" alt=\"Open In Colab\"/></a>"
      ]
    },
    {
      "cell_type": "code",
      "execution_count": 4,
      "metadata": {
        "colab": {
          "base_uri": "https://localhost:8080/"
        },
        "id": "z3HYnRxoDDyl",
        "outputId": "aeaf904b-174d-4fee-d167-78d4340bbecc"
      },
      "outputs": [
        {
          "output_type": "stream",
          "name": "stdout",
          "text": [
            "Are You Interested to play the game\n",
            "Enter 'yes' or 'no': Yes\n",
            "Confirmed\n"
          ]
        }
      ],
      "source": [
        "\n",
        "\n",
        "print(\"Are You Interested to play the game\")\n",
        "enter = input(\"Enter 'yes' or 'no': \").lower()\n",
        "if enter == \"yes\":\n",
        "    print(\"Confirmed\")\n",
        "elif enter == \"no\":\n",
        "    print(\"Denied\")\n",
        "else:\n",
        "    print(\"Invalid input\")"
      ]
    }
  ]
}