{
  "nbformat": 4,
  "nbformat_minor": 0,
  "metadata": {
    "colab": {
      "provenance": [],
      "authorship_tag": "ABX9TyO6XU/hgxddtz6ijEqRPYjH",
      "include_colab_link": true
    },
    "kernelspec": {
      "name": "python3",
      "display_name": "Python 3"
    },
    "language_info": {
      "name": "python"
    }
  },
  "cells": [
    {
      "cell_type": "markdown",
      "metadata": {
        "id": "view-in-github",
        "colab_type": "text"
      },
      "source": [
        "<a href=\"https://colab.research.google.com/github/NavyasreePurimitla/Python/blob/main/sets02.ipynb\" target=\"_parent\"><img src=\"https://colab.research.google.com/assets/colab-badge.svg\" alt=\"Open In Colab\"/></a>"
      ]
    },
    {
      "cell_type": "code",
      "execution_count": 1,
      "metadata": {
        "colab": {
          "base_uri": "https://localhost:8080/"
        },
        "id": "a7qEF4N2bzyq",
        "outputId": "8a3239e8-3413-402a-c053-9d3ff8d093a2"
      },
      "outputs": [
        {
          "output_type": "stream",
          "name": "stdout",
          "text": [
            "Enter the number: 23\n",
            "Enter the number: 23\n",
            "Enter the number: 24\n",
            "Enter the number: 26\n",
            "Enter the number: 36\n",
            "Enter the number: 87\n",
            "Enter the number: 77\n",
            "Enter the number: 66\n",
            "{'23', '66', '26', '36', '77', '87', '24'}\n"
          ]
        }
      ],
      "source": [
        "#write a program to input eight numbers from the user and display all the unique number\n",
        "s = set()\n",
        "\n",
        "s.add(input(\"Enter the number: \"))\n",
        "s.add(input(\"Enter the number: \"))\n",
        "s.add(input(\"Enter the number: \"))\n",
        "s.add(input(\"Enter the number: \"))\n",
        "s.add(input(\"Enter the number: \"))\n",
        "s.add(input(\"Enter the number: \"))\n",
        "s.add(input(\"Enter the number: \"))\n",
        "s.add(input(\"Enter the number: \"))\n",
        "print(s)\n",
        "\n"
      ]
    },
    {
      "cell_type": "code",
      "source": [
        "#can we have a set with 23 (int) and 23 (str) as a values in it:\n",
        "s = set()\n",
        "print(type(s))\n",
        "\n",
        "s.add(23)\n",
        "s.add(input(\"Enter the number: \"))\n",
        "s.add(input(\"Enter the number: \"))\n",
        "s.add(input(\"Enter the number: \"))\n",
        "s.add(input(\"Enter the number: \"))\n",
        "s.add(input(\"Enter the number: \"))\n",
        "s.add(input(\"Enter the number: \"))\n",
        "s.add(input(\"Enter the number: \"))\n",
        "s.add(input(\"Enter the number: \"))\n",
        "s.add(input(\"Enter the number: \"))\n",
        "\n",
        "print(s)\n"
      ],
      "metadata": {
        "colab": {
          "base_uri": "https://localhost:8080/"
        },
        "id": "SIMMKozDWCtY",
        "outputId": "a6a20061-3a0c-421c-a496-6518db7de577"
      },
      "execution_count": 2,
      "outputs": [
        {
          "output_type": "stream",
          "name": "stdout",
          "text": [
            "<class 'set'>\n",
            "Enter the number: 23\n",
            "Enter the number: 45\n",
            "Enter the number: 44\n",
            "Enter the number: 77\n",
            "Enter the number: 66\n",
            "Enter the number: 88\n",
            "Enter the number: 99\n",
            "Enter the number: 22\n",
            "Enter the number: 11\n",
            "{'22', '23', '45', '44', '66', '99', 23, '88', '77', '11'}\n"
          ]
        }
      ]
    }
  ]
}