{
  "nbformat": 4,
  "nbformat_minor": 0,
  "metadata": {
    "colab": {
      "provenance": [],
      "authorship_tag": "ABX9TyPmqbBht5dJGynObrvXsmlI",
      "include_colab_link": true
    },
    "kernelspec": {
      "name": "python3",
      "display_name": "Python 3"
    },
    "language_info": {
      "name": "python"
    }
  },
  "cells": [
    {
      "cell_type": "markdown",
      "metadata": {
        "id": "view-in-github",
        "colab_type": "text"
      },
      "source": [
        "<a href=\"https://colab.research.google.com/github/NavyasreePurimitla/Python/blob/main/star.ipynb\" target=\"_parent\"><img src=\"https://colab.research.google.com/assets/colab-badge.svg\" alt=\"Open In Colab\"/></a>"
      ]
    },
    {
      "cell_type": "code",
      "execution_count": 42,
      "metadata": {
        "colab": {
          "base_uri": "https://localhost:8080/"
        },
        "id": "QTEanz4k5_1j",
        "outputId": "89776bdd-391d-4e6a-9526-8d956851f80d"
      },
      "outputs": [
        {
          "output_type": "stream",
          "name": "stdout",
          "text": [
            "            \n",
            "           # \n",
            "          # # \n",
            "         # # # \n",
            "        # # # # \n",
            "       # # # # # \n",
            "      # # # # # # \n",
            "     # # # # # # # \n",
            "    # # # # # # # # \n",
            "   # # # # # # # # # \n",
            "  # # # # # # # # # # \n"
          ]
        }
      ],
      "source": [
        "for i in range(11):\n",
        "  print(\"\",end=\" \")\n",
        "  for k in range(11-i):\n",
        "    print(\"\",end=\" \")\n",
        "  for j in range(i):\n",
        "    print(\"# \",end=\"\")\n",
        "  print()"
      ]
    },
    {
      "cell_type": "code",
      "source": [
        "for i in range(11):\n",
        "  print(\"\",end=\" \")\n",
        "  for k in range(11-i):\n",
        "    print(\" \",end=\" \")\n",
        "  for j in range(i):\n",
        "    print(\"#   \",end=\"\")\n",
        "  print()"
      ],
      "metadata": {
        "colab": {
          "base_uri": "https://localhost:8080/"
        },
        "id": "cfNZdeKwAC87",
        "outputId": "693004af-4014-40e5-bcb5-fce3f21c26ff"
      },
      "execution_count": 44,
      "outputs": [
        {
          "output_type": "stream",
          "name": "stdout",
          "text": [
            "                       \n",
            "                     #   \n",
            "                   #   #   \n",
            "                 #   #   #   \n",
            "               #   #   #   #   \n",
            "             #   #   #   #   #   \n",
            "           #   #   #   #   #   #   \n",
            "         #   #   #   #   #   #   #   \n",
            "       #   #   #   #   #   #   #   #   \n",
            "     #   #   #   #   #   #   #   #   #   \n",
            "   #   #   #   #   #   #   #   #   #   #   \n"
          ]
        }
      ]
    }
  ]
}