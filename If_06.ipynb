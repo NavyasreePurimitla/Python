{
  "nbformat": 4,
  "nbformat_minor": 0,
  "metadata": {
    "colab": {
      "provenance": [],
      "authorship_tag": "ABX9TyPgVKKPDKpLcOslVA/JSwV/",
      "include_colab_link": true
    },
    "kernelspec": {
      "name": "python3",
      "display_name": "Python 3"
    },
    "language_info": {
      "name": "python"
    }
  },
  "cells": [
    {
      "cell_type": "markdown",
      "metadata": {
        "id": "view-in-github",
        "colab_type": "text"
      },
      "source": [
        "<a href=\"https://colab.research.google.com/github/NavyasreePurimitla/Python/blob/main/If_06.ipynb\" target=\"_parent\"><img src=\"https://colab.research.google.com/assets/colab-badge.svg\" alt=\"Open In Colab\"/></a>"
      ]
    },
    {
      "cell_type": "code",
      "execution_count": 1,
      "metadata": {
        "colab": {
          "base_uri": "https://localhost:8080/"
        },
        "id": "cAL6mFDTEni9",
        "outputId": "0e7dfc8e-989f-4033-92c8-a296514cbf66"
      },
      "outputs": [
        {
          "output_type": "stream",
          "name": "stdout",
          "text": [
            "enter the number56\n",
            "Number is positive\n",
            "\n",
            "10 is positive\n",
            "-5 is negative\n",
            "0 is zero\n",
            "3 is positive\n",
            "-2 is negative\n",
            "0 is zero\n",
            "\n",
            "enter the score60\n",
            "Score: 60, Result: Pass\n"
          ]
        }
      ],
      "source": [
        "num = int(input(\"enter the number\"))\n",
        "if num > 0:\n",
        "    print(\"Number is positive\")\n",
        "elif num == 0:\n",
        "    print(\"Number is zero\")\n",
        "else:\n",
        "    print(\"Number is negative\")\n",
        "print()\n",
        "\n",
        "numbers = [10, -5, 0, 3, -2, 0]\n",
        "for num in numbers:\n",
        "    if num > 0:\n",
        "        print(f\"{num} is positive\")\n",
        "    elif num < 0:\n",
        "        print(f\"{num} is negative\")\n",
        "    else:\n",
        "        print(f\"{num} is zero\")\n",
        "print()\n",
        "\n",
        "score = int(input(\"enter the score\"))\n",
        "result = \"Pass\" if score >= 60 else \"Fail\"\n",
        "print(f\"Score: {score}, Result: {result}\")"
      ]
    }
  ]
}