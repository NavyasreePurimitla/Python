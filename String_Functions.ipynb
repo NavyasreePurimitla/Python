{
  "nbformat": 4,
  "nbformat_minor": 0,
  "metadata": {
    "colab": {
      "provenance": [],
      "authorship_tag": "ABX9TyM0TfHG7/8zZ2zpRr89V/Aj",
      "include_colab_link": true
    },
    "kernelspec": {
      "name": "python3",
      "display_name": "Python 3"
    },
    "language_info": {
      "name": "python"
    }
  },
  "cells": [
    {
      "cell_type": "markdown",
      "metadata": {
        "id": "view-in-github",
        "colab_type": "text"
      },
      "source": [
        "<a href=\"https://colab.research.google.com/github/NavyasreePurimitla/Python/blob/main/String_Functions.ipynb\" target=\"_parent\"><img src=\"https://colab.research.google.com/assets/colab-badge.svg\" alt=\"Open In Colab\"/></a>"
      ]
    },
    {
      "cell_type": "code",
      "execution_count": null,
      "metadata": {
        "id": "WOamMANPXc-K"
      },
      "outputs": [],
      "source": [
        "#string.len():\n",
        "name=\"My Name is P Savithri. \\n\\tI am studying Btech 4th year.\"\n",
        "print(len(name))\n",
        "print(f\"About My Details: \",name)\n",
        "\n",
        "#string.endswith() and startswith():\n",
        "name=\"Hello! Good Morning\"\n",
        "print(name.endswith(\"ing\"))\n",
        "print(name.startswith(\"He\"))\n",
        "print(name.endswith(\"yy\"))\n",
        "\n",
        "#string.capitalize():\n",
        "name=\"my name is p savithri. I am studying Btech 4th year.\"\n",
        "print(name.capitalize())\n",
        "\n",
        "#string.count():\n",
        "name=\"savithri,anasuya\"\n",
        "print(name.count(\"a\"))\n",
        "\n",
        "#string.replace()\n",
        "name=\"Savithri is a good girl\"\n",
        "print(name.replace(\"Savithri\",\"Madhan\").replace(\"girl\",\"boy\"))\n",
        "\n",
        "#string.find()\n",
        "name=\"where is my book\"\n",
        "print(name.find(\"book\"))\n",
        "\n"
      ]
    }
  ]
}