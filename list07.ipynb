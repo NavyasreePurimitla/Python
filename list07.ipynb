{
  "nbformat": 4,
  "nbformat_minor": 0,
  "metadata": {
    "colab": {
      "provenance": [],
      "authorship_tag": "ABX9TyPwLPaL6lGPYxfR6MZ9B8BZ",
      "include_colab_link": true
    },
    "kernelspec": {
      "name": "python3",
      "display_name": "Python 3"
    },
    "language_info": {
      "name": "python"
    }
  },
  "cells": [
    {
      "cell_type": "markdown",
      "metadata": {
        "id": "view-in-github",
        "colab_type": "text"
      },
      "source": [
        "<a href=\"https://colab.research.google.com/github/NavyasreePurimitla/Python/blob/main/list07.ipynb\" target=\"_parent\"><img src=\"https://colab.research.google.com/assets/colab-badge.svg\" alt=\"Open In Colab\"/></a>"
      ]
    },
    {
      "cell_type": "code",
      "execution_count": 8,
      "metadata": {
        "id": "qwOluwvGYM9w",
        "colab": {
          "base_uri": "https://localhost:8080/"
        },
        "outputId": "5a9ecdef-3726-4ffe-e8e9-b75eedf381c6"
      },
      "outputs": [
        {
          "output_type": "stream",
          "name": "stdout",
          "text": [
            "List of Values: \n",
            "[1, 2, 3, 4, 5, 6]\n",
            "The Value of Sum is:  23\n",
            "Enter the value to multiply with sum : 4\n",
            "Enter the value to division with sum : 6\n",
            "Multiplication of sum =  92\n",
            "Division of sum =  0.2608695652173913\n"
          ]
        }
      ],
      "source": [
        "list = [1,2,3,4,6,5]\n",
        "sum = 2\n",
        "sum += list[0]\n",
        "sum += list[1]\n",
        "sum += list[2]\n",
        "sum += list[3]\n",
        "sum += list[4]\n",
        "sum += list[5]\n",
        "\n",
        "print(\"List of Values: \")\n",
        "list.sort()\n",
        "print(list)\n",
        "print(\"The Value of Sum is: \", sum)\n",
        "a = int(input(\"Enter the value to multiply with sum : \"))\n",
        "b = int(input(\"Enter the value to division with sum : \"))\n",
        "print(\"Multiplication of sum = \", a * sum)\n",
        "print(\"Division of sum = \", b / sum)"
      ]
    }
  ]
}