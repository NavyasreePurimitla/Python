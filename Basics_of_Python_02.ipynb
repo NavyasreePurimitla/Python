{
  "nbformat": 4,
  "nbformat_minor": 0,
  "metadata": {
    "colab": {
      "provenance": [],
      "authorship_tag": "ABX9TyOjafz1qpyxsccCaKZS3xQN",
      "include_colab_link": true
    },
    "kernelspec": {
      "name": "python3",
      "display_name": "Python 3"
    },
    "language_info": {
      "name": "python"
    }
  },
  "cells": [
    {
      "cell_type": "markdown",
      "metadata": {
        "id": "view-in-github",
        "colab_type": "text"
      },
      "source": [
        "<a href=\"https://colab.research.google.com/github/NavyasreePurimitla/Python/blob/main/Basics_of_Python_02.ipynb\" target=\"_parent\"><img src=\"https://colab.research.google.com/assets/colab-badge.svg\" alt=\"Open In Colab\"/></a>"
      ]
    },
    {
      "cell_type": "markdown",
      "source": [
        "# **Comparision Operators**\n",
        " In Python Comparision of Relational Operators compares the values. If either returns True or False according to the condition."
      ],
      "metadata": {
        "id": "5J9gcOXQAt58"
      }
    },
    {
      "cell_type": "code",
      "source": [
        "#Examples of Comparision Operators in Python\n",
        "a = 34\n",
        "b = 23\n",
        "\n",
        "print(\"Enter the a value: \", a)\n",
        "print(\"Enter the b value: \", b)\n",
        "print()\n",
        "print(\"Comparision Operators in Python: \\n\")\n",
        "print(\"a == b is a : \", a == b)\n",
        "print(\"a != b is a : \", a != b)\n",
        "print(\"a > b is a  : \", a > b)\n",
        "print(\"a < b is a  : \", a < b)\n",
        "print(\"a >= b is a : \", a >= b)\n",
        "print(\"a <= b is a : \", a <= b)"
      ],
      "metadata": {
        "colab": {
          "base_uri": "https://localhost:8080/"
        },
        "id": "AumnWWCCBCsi",
        "outputId": "008cded2-9694-4270-e87c-d4e5f89178eb"
      },
      "execution_count": null,
      "outputs": [
        {
          "output_type": "stream",
          "name": "stdout",
          "text": [
            "Enter the a value:  34\n",
            "Enter the b value:  23\n",
            "\n",
            "Comparision Operators in Python: \n",
            "\n",
            "a == b is a :  False\n",
            "a != b is a :  True\n",
            "a > b is a  :  True\n",
            "a < b is a  :  False\n",
            "a >= b is a :  True\n",
            "a <= b is a :  False\n"
          ]
        }
      ]
    },
    {
      "cell_type": "markdown",
      "source": [
        "# **Logical Operators**\n",
        "\n",
        "Python Logical operators perform Logical AND, Logical OR, and Logical NOT operations. It is used to combine conditional statements.\n",
        "\n",
        "The precedence of Logical Operators in Python as follows:\n",
        "\n",
        "*   Logical NOT\n",
        "\n",
        "*   Logical AND\n",
        "\n",
        "*   Logical OR\n",
        "\n",
        "\n"
      ],
      "metadata": {
        "id": "poMsfY89Cgre"
      }
    },
    {
      "cell_type": "code",
      "source": [
        "#Examples of Logical Operators\n",
        "\n",
        "a = True\n",
        "b = False\n",
        "\n",
        "print(\"Enter the a value: \", a)\n",
        "print(\"Enter the b value: \", b)\n",
        "print()\n",
        "print(\"Logical Operators in Python: \")\n",
        "print(\"a and b is a: \", a and b)\n",
        "print(\"a or b is a : \", a or b)\n",
        "print(\"not a is a  : \", not a)"
      ],
      "metadata": {
        "colab": {
          "base_uri": "https://localhost:8080/"
        },
        "id": "UR91gJREDuoM",
        "outputId": "0c1ecaa2-750f-4bbf-fb1e-54c09f518cd0"
      },
      "execution_count": null,
      "outputs": [
        {
          "output_type": "stream",
          "name": "stdout",
          "text": [
            "Enter the a value:  True\n",
            "Enter the b value:  False\n",
            "\n",
            "Logical Operators in Python: \n",
            "a and b is a:  False\n",
            "a or b is a :  True\n",
            "not a is a  :  False\n"
          ]
        }
      ]
    },
    {
      "cell_type": "markdown",
      "source": [
        "# **Identity Operators**\n",
        "\n",
        "In Python is and is not are the identity operators both are used to check if two values are located on the same part of the memory.\n",
        "\n",
        "\n",
        "* Two variables that are equal do not imply that they are identical.\n",
        "\n",
        "* Is True if the operands are identical.\n",
        "\n",
        "* Is not True if the operands are not identical."
      ],
      "metadata": {
        "id": "iILgRWF9Hvq7"
      }
    },
    {
      "cell_type": "code",
      "source": [
        "#Examples of an Identity Operators\n",
        "\n",
        "a = 10\n",
        "b = 20\n",
        "c = a\n",
        "\n",
        "print(\"Enter the a value: \", a)\n",
        "print(\"Enter the b value: \", b)\n",
        "print(\"Enter the c value: \", c)\n",
        "print()\n",
        "print(\"Identity Operators in Python: \")\n",
        "print(\"a is not b is a: \", a is not b)\n",
        "print(\"a is c is a: \", a is c)\n",
        "print(\"b is a is a: \", b is a)\n",
        "print(\"a is not c is a: \", a is not c)"
      ],
      "metadata": {
        "id": "dyNsS2lyI7oH"
      },
      "execution_count": null,
      "outputs": []
    },
    {
      "cell_type": "markdown",
      "source": [
        "# **Membership Operators**\n",
        "\n",
        "In Python its and to test whether a value or variable is in a sequence.\n",
        "\n",
        "* If True value is found in sequence.\n",
        "* If False value is found in sequence."
      ],
      "metadata": {
        "id": "rQWqAbf0UVxC"
      }
    },
    {
      "cell_type": "code",
      "source": [
        "#Examples of Membership Operators\n",
        "\n",
        "a = 23\n",
        "b = 28\n",
        "list = [23, 45, 67, 83, 22]\n",
        "\n",
        "print(\"Enter the a value: \", a)\n",
        "print(\"Enter the b value: \", b)\n",
        "print(\"Enter the list value: \", list)\n",
        "print()\n",
        "print(\"Membership Operators in Python: \")\n",
        "if(a in list):\n",
        "  print(\" a is available in the given list\")\n",
        "else:\n",
        "  print(\" a is not available in the given list\")\n",
        "\n",
        "if (b not in list):\n",
        "  print(\" b is not available in the given list\")\n",
        "else:\n",
        "  print(\" b is available in the given list\")"
      ],
      "metadata": {
        "colab": {
          "base_uri": "https://localhost:8080/"
        },
        "id": "_DVDt7ZnVksX",
        "outputId": "d040840d-7b8c-41da-cb3a-84fa84739b5f"
      },
      "execution_count": 27,
      "outputs": [
        {
          "output_type": "stream",
          "name": "stdout",
          "text": [
            "Enter the a value:  23\n",
            "Enter the b value:  28\n",
            "Enter the list value:  [23, 45, 67, 83, 22]\n",
            "\n",
            "Membership Operators in Python: \n",
            " a is available in the given list\n",
            " b is not available in the given list\n"
          ]
        }
      ]
    }
  ]
}