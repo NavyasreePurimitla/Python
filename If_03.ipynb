{
  "nbformat": 4,
  "nbformat_minor": 0,
  "metadata": {
    "colab": {
      "provenance": [],
      "authorship_tag": "ABX9TyOxtwAcLP5lOXNe+OGinHpx",
      "include_colab_link": true
    },
    "kernelspec": {
      "name": "python3",
      "display_name": "Python 3"
    },
    "language_info": {
      "name": "python"
    }
  },
  "cells": [
    {
      "cell_type": "markdown",
      "metadata": {
        "id": "view-in-github",
        "colab_type": "text"
      },
      "source": [
        "<a href=\"https://colab.research.google.com/github/NavyasreePurimitla/Python/blob/main/If_03.ipynb\" target=\"_parent\"><img src=\"https://colab.research.google.com/assets/colab-badge.svg\" alt=\"Open In Colab\"/></a>"
      ]
    },
    {
      "cell_type": "code",
      "execution_count": null,
      "metadata": {
        "colab": {
          "base_uri": "https://localhost:8080/"
        },
        "id": "JEwMpZfI_xkx",
        "outputId": "f2ac7939-1a99-4145-e2df-d1924802e9da"
      },
      "outputs": [
        {
          "output_type": "stream",
          "name": "stdout",
          "text": [
            "Enter the Name of the Student: Palagiri Kavya\n",
            "\n",
            "Marks in the Subject of Maths: 99\n",
            "Marks in the subject of English: 100\n",
            "Marks in the Subject of Telugu: 80\n",
            "\n",
            "Pass\n",
            "Grade: A+\n",
            "Percentage:  93.0\n"
          ]
        }
      ],
      "source": [
        "name = input(\"Enter the Name of the Student: \")\n",
        "print()\n",
        "m1=int(input(\"Marks in the Subject of Maths: \"))\n",
        "m2=int(input(\"Marks in the subject of English: \"))\n",
        "m3=int(input(\"Marks in the Subject of Telugu: \"))\n",
        "print()\n",
        "\n",
        "if m1<35 or m2<35 or m3<35:\n",
        "    print(\"Fail\")\n",
        "    print(\"Grade: F\")\n",
        "    print(\"Percentage: \",(m1+m2+m3)/3)\n",
        "elif (m1+m2+m3)/3 <40 :\n",
        "    print(\"Pass\")\n",
        "    print(\"Grade: E\")\n",
        "    print(\"Percentage: \",(m1+m2+m3)/3)\n",
        "elif (m1+m2+m3)/3 <50 :\n",
        "    print(\"Pass\")\n",
        "    print(\"Grade: D\")\n",
        "    print(\"Percentage: \",(m1+m2+m3)/3)\n",
        "elif (m1+m2+m3)/3 <60 :\n",
        "    print(\"Pass\")\n",
        "    print(\"Grade: C\")\n",
        "    print(\"Percentage: \",(m1+m2+m3)/3)\n",
        "elif (m1+m2+m3)/3 <70 :\n",
        "    print(\"Pass\")\n",
        "    print(\"Grade: B\")\n",
        "    print(\"Percentage: \",(m1+m2+m3)/3)\n",
        "elif (m1+m2+m3)/3 <80 :\n",
        "    print(\"Pass\")\n",
        "    print(\"Grade: A\")\n",
        "    print(\"Percentage: \",(m1+m2+m3)/3)\n",
        "else:\n",
        "    print(\"Pass\")\n",
        "    print(\"Grade: A+\")\n",
        "    print(\"Percentage: \",(m1+m2+m3)/3)"
      ]
    },
    {
      "cell_type": "code",
      "source": [
        "print(\"Attendance in the Month of March: \")\n",
        "name=input(\"Enter the Name of the Student: \")\n",
        "print()\n",
        "week1=int(input(\"Enter the Week1 Attendance: \"))\n",
        "week2=int(input(\"Enter the Week2 Attendance: \"))\n",
        "week3=int(input(\"Enter the Week3 Attendance: \"))\n",
        "week4=int(input(\"Enter the Week4 Attendance: \"))\n",
        "print()\n",
        "a=int(week1+week2+week3+week4)/4\n",
        "print(\"Total Percentage of Attendance in the Month of March is: \",a)"
      ],
      "metadata": {
        "colab": {
          "base_uri": "https://localhost:8080/"
        },
        "id": "x18l-ICBIlas",
        "outputId": "4d4ab620-0d76-4e2c-e1e3-d6309868bf61"
      },
      "execution_count": 40,
      "outputs": [
        {
          "output_type": "stream",
          "name": "stdout",
          "text": [
            "Attendance in the Month of March: \n",
            "Enter the Name of the Student: Kavya\n",
            "\n",
            "Enter the Week1 Attendance: 56\n",
            "Enter the Week2 Attendance: 88\n",
            "Enter the Week3 Attendance: 94\n",
            "Enter the Week4 Attendance: 48\n",
            "\n",
            "Total Percentage of Attendance in the Month of March is:  71.5\n"
          ]
        }
      ]
    }
  ]
}