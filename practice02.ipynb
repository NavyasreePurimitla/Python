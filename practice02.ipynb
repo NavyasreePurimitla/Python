{
  "nbformat": 4,
  "nbformat_minor": 0,
  "metadata": {
    "colab": {
      "provenance": [],
      "authorship_tag": "ABX9TyM1JVYNEsAWkGBNACV/MPBH",
      "include_colab_link": true
    },
    "kernelspec": {
      "name": "python3",
      "display_name": "Python 3"
    },
    "language_info": {
      "name": "python"
    }
  },
  "cells": [
    {
      "cell_type": "markdown",
      "metadata": {
        "id": "view-in-github",
        "colab_type": "text"
      },
      "source": [
        "<a href=\"https://colab.research.google.com/github/NavyasreePurimitla/Python/blob/main/practice02.ipynb\" target=\"_parent\"><img src=\"https://colab.research.google.com/assets/colab-badge.svg\" alt=\"Open In Colab\"/></a>"
      ]
    },
    {
      "cell_type": "code",
      "execution_count": null,
      "metadata": {
        "id": "Xm84AGmPbRpM"
      },
      "outputs": [],
      "source": [
        "# List slicing\n",
        "numbers = [1, 2, 3, 4, 5]\n",
        "print(numbers[1:4]) # Output: [2, 3, 4]\n",
        "print(numbers[:3]) # Output: [1, 2, 3]\n",
        "print(numbers[::2]) # Output: [1, 3, 5] (every second element)\n",
        "\n",
        "# List comprehension\n",
        "squares = [x**2 for x in range(5)]\n",
        "print(squares) # Output: [0, 1, 4, 9, 16]\n",
        "\n",
        "# Sorting\n",
        "numbers = [3, 1, 4, 1, 5]\n",
        "numbers.sort()\n",
        "print(numbers) # Output: [1, 1, 3, 4, 5]\n",
        "print(sorted(fruits, reverse=True)) # Output: ['mango', 'grape', 'apple']\n",
        "\n",
        "# Length and membership\n",
        "print(len(fruits)) # Output: 3\n",
        "print(\"apple\" in fruits) # Output: True"
      ]
    }
  ]
}