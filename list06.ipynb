{
  "nbformat": 4,
  "nbformat_minor": 0,
  "metadata": {
    "colab": {
      "provenance": [],
      "authorship_tag": "ABX9TyNcuJyZ3TztBeeBLlXvr7mU",
      "include_colab_link": true
    },
    "kernelspec": {
      "name": "python3",
      "display_name": "Python 3"
    },
    "language_info": {
      "name": "python"
    }
  },
  "cells": [
    {
      "cell_type": "markdown",
      "metadata": {
        "id": "view-in-github",
        "colab_type": "text"
      },
      "source": [
        "<a href=\"https://colab.research.google.com/github/NavyasreePurimitla/Python/blob/main/list06.ipynb\" target=\"_parent\"><img src=\"https://colab.research.google.com/assets/colab-badge.svg\" alt=\"Open In Colab\"/></a>"
      ]
    },
    {
      "cell_type": "code",
      "source": [
        "marks01 = int(input(\"Enter the Marks of Student 1: \"))\n",
        "marks02 = int(input(\"Enter the Marks of Student 2: \"))\n",
        "marks03 = int(input(\"Enter the Marks of Student 3: \"))\n",
        "marks04 = int(input(\"Enter the Marks of Student 4: \"))\n",
        "marks05 = int(input(\"Enter the Marks of Student 5: \"))\n",
        "a=1\n",
        "b=2\n",
        "c=3\n",
        "d=4\n",
        "e=5\n",
        "\n",
        "my_students = [marks01, marks02, marks03, marks04, marks05]\n",
        "print(f\"Student Roll No:{a}. Marks of Student: {marks01}\")\n",
        "print(f\"Student Roll No:{b}. Marks of Student: {marks02}\")\n",
        "print(f\"Student Roll No:{c}. Marks of Student: {marks03}\")\n",
        "print(f\"Student Roll No:{d}. Marks of Student: {marks04}\")\n",
        "print(f\"Student Roll No:{e}. Marks of Student: {marks05}\")\n",
        "\n"
      ],
      "metadata": {
        "colab": {
          "base_uri": "https://localhost:8080/"
        },
        "id": "WIISwphP4c9O",
        "outputId": "c8bc09b9-04f0-48a0-ebde-b0b0aa20b0e9"
      },
      "execution_count": 6,
      "outputs": [
        {
          "output_type": "stream",
          "name": "stdout",
          "text": [
            "Enter the Marks of Student 1: 39\n",
            "Enter the Marks of Student 2: 49\n",
            "Enter the Marks of Student 3: 44\n",
            "Enter the Marks of Student 4: 28\n",
            "Enter the Marks of Student 5: 30\n",
            "Student Roll No:1. Marks of Student: 39\n",
            "Student Roll No:2. Marks of Student: 49\n",
            "Student Roll No:3. Marks of Student: 44\n",
            "Student Roll No:4. Marks of Student: 28\n",
            "Student Roll No:5. Marks of Student: 30\n"
          ]
        }
      ]
    }
  ]
}