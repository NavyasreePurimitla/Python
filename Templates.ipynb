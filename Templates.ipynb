{
  "nbformat": 4,
  "nbformat_minor": 0,
  "metadata": {
    "colab": {
      "provenance": [],
      "authorship_tag": "ABX9TyOWAtTREqR7Ddi7ovHZbqhu",
      "include_colab_link": true
    },
    "kernelspec": {
      "name": "python3",
      "display_name": "Python 3"
    },
    "language_info": {
      "name": "python"
    }
  },
  "cells": [
    {
      "cell_type": "markdown",
      "metadata": {
        "id": "view-in-github",
        "colab_type": "text"
      },
      "source": [
        "<a href=\"https://colab.research.google.com/github/NavyasreePurimitla/Python/blob/main/Templates.ipynb\" target=\"_parent\"><img src=\"https://colab.research.google.com/assets/colab-badge.svg\" alt=\"Open In Colab\"/></a>"
      ]
    },
    {
      "cell_type": "code",
      "execution_count": null,
      "metadata": {
        "id": "xBlYKDUQgM1R"
      },
      "outputs": [],
      "source": [
        "name=input(\"Enter the name: \")\n",
        "date=input(\"Enter the date: \")\n",
        "\n",
        "template='''\n",
        "Dear <|name|>,\n",
        "Your are Selected in WIPRO Company.\n",
        "<|date|>\n",
        "'''\n",
        "print(template.replace(\"<|name|>\",name).replace(\"<|date|>\",date))"
      ]
    }
  ]
}