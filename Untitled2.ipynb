{
  "nbformat": 4,
  "nbformat_minor": 0,
  "metadata": {
    "colab": {
      "provenance": [],
      "authorship_tag": "ABX9TyOj+ydb1ej9UyjtqXMIkCj3",
      "include_colab_link": true
    },
    "kernelspec": {
      "name": "python3",
      "display_name": "Python 3"
    },
    "language_info": {
      "name": "python"
    }
  },
  "cells": [
    {
      "cell_type": "markdown",
      "metadata": {
        "id": "view-in-github",
        "colab_type": "text"
      },
      "source": [
        "<a href=\"https://colab.research.google.com/github/NavyasreePurimitla/Python/blob/main/Untitled2.ipynb\" target=\"_parent\"><img src=\"https://colab.research.google.com/assets/colab-badge.svg\" alt=\"Open In Colab\"/></a>"
      ]
    },
    {
      "cell_type": "code",
      "execution_count": 1,
      "metadata": {
        "colab": {
          "base_uri": "https://localhost:8080/"
        },
        "id": "a7qEF4N2bzyq",
        "outputId": "d3856193-a08b-4930-982d-edcc05553156"
      },
      "outputs": [
        {
          "output_type": "stream",
          "name": "stdout",
          "text": [
            "Caution\n",
            "Between 50 and 100 (inclusive)\n"
          ]
        }
      ],
      "source": [
        "\n",
        "#1. Traffic Light\n",
        "traffic_light = \"Yellow\"\n",
        "if traffic_light == \"Green\":\n",
        "    print(\"Go\")\n",
        "elif traffic_light == \"Yellow\":\n",
        "    print(\"Caution\")\n",
        "elif traffic_light == \"Red\":\n",
        "    print(\"Stop\")\n",
        "else:\n",
        "    print(\"Invalid color\")\n",
        "\n",
        "\n",
        "# 2. Number Range\n",
        "value = 65\n",
        "if value > 100:\n",
        "    print(\"Greater than 100\")\n",
        "elif 50 <= value <= 100:\n",
        "    print(\"Between 50 and 100 (inclusive)\")\n",
        "elif 0 <= value <= 49:\n",
        "    print(\"Between 0 and 49 (inclusive)\")\n",
        "else:\n",
        "    print(\"Less than 0\")"
      ]
    }
  ]
}