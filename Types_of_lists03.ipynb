{
  "nbformat": 4,
  "nbformat_minor": 0,
  "metadata": {
    "colab": {
      "provenance": [],
      "authorship_tag": "ABX9TyP76LB/yQ0fAChhkSvulMlz",
      "include_colab_link": true
    },
    "kernelspec": {
      "name": "python3",
      "display_name": "Python 3"
    },
    "language_info": {
      "name": "python"
    }
  },
  "cells": [
    {
      "cell_type": "markdown",
      "metadata": {
        "id": "view-in-github",
        "colab_type": "text"
      },
      "source": [
        "<a href=\"https://colab.research.google.com/github/NavyasreePurimitla/Python/blob/main/Types_of_lists03.ipynb\" target=\"_parent\"><img src=\"https://colab.research.google.com/assets/colab-badge.svg\" alt=\"Open In Colab\"/></a>"
      ]
    },
    {
      "cell_type": "code",
      "execution_count": null,
      "metadata": {
        "id": "9qKRjX41j78Z"
      },
      "outputs": [],
      "source": [
        "#Creating a heterogeneous list\n",
        "mylist=[\"Madhan\",\"Suresh\",25,30,\"Male\"]\n",
        "print(\"mylist\")\n",
        "print(f\"Name: \",mylist[0])\n",
        "print(f\"Age: \",mylist[2])\n",
        "print(f\"Gender: \",mylist[4])\n"
      ]
    }
  ]
}