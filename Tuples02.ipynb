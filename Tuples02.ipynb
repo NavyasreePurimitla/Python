{
  "nbformat": 4,
  "nbformat_minor": 0,
  "metadata": {
    "colab": {
      "provenance": [],
      "authorship_tag": "ABX9TyN3oW+d8S1F3zqB+gQ2nTWt",
      "include_colab_link": true
    },
    "kernelspec": {
      "name": "python3",
      "display_name": "Python 3"
    },
    "language_info": {
      "name": "python"
    }
  },
  "cells": [
    {
      "cell_type": "markdown",
      "metadata": {
        "id": "view-in-github",
        "colab_type": "text"
      },
      "source": [
        "<a href=\"https://colab.research.google.com/github/NavyasreePurimitla/Python/blob/main/Tuples02.ipynb\" target=\"_parent\"><img src=\"https://colab.research.google.com/assets/colab-badge.svg\" alt=\"Open In Colab\"/></a>"
      ]
    },
    {
      "cell_type": "code",
      "execution_count": 1,
      "metadata": {
        "colab": {
          "base_uri": "https://localhost:8080/"
        },
        "id": "MME12yINp59k",
        "outputId": "adf81476-1cb2-4ee5-c426-8fce16d8a378"
      },
      "outputs": [
        {
          "output_type": "stream",
          "name": "stdout",
          "text": [
            "Squares: [1, 4, 9, 16, 25]\n",
            "Evens: [2, 4]\n",
            "Uppercase: ['HELLO', 'WORLD', 'PYTHON']\n",
            "Flattened: [1, 2, 3, 4, 5, 6]\n",
            "Multiples of 3: [3, 6, 9, 12]\n"
          ]
        }
      ],
      "source": [
        "\n",
        "# Basic list comprehension: [expression for item in iterable]\n",
        "numbers = [1, 2, 3, 4, 5]\n",
        "squares = [num * num for num in numbers]\n",
        "print(\"Squares:\", squares)  # Output: [1, 4, 9, 16, 25]\n",
        "\n",
        "# With condition: [expression for item in iterable if condition]\n",
        "evens = [num for num in numbers if num % 2 == 0]\n",
        "print(\"Evens:\", evens)  # Output: [2, 4]\n",
        "\n",
        "# Transforming strings\n",
        "words = [\"hello\", \"world\", \"python\"]\n",
        "upper_words = [word.upper() for word in words]\n",
        "print(\"Uppercase:\", upper_words)  # Output: ['HELLO', 'WORLD', 'PYTHON']\n",
        "\n",
        "# Nested list comprehension\n",
        "matrix = [[1, 2], [3, 4], [5, 6]]\n",
        "flattened = [num for row in matrix for num in row]\n",
        "print(\"Flattened:\", flattened)  # Output: [1, 2, 3, 4, 5, 6]\n",
        "\n",
        "# Using with range\n",
        "multiples_of_three = [x * 3 for x in range(1, 5)]\n",
        "print(\"Multiples of 3:\", multiples_of_three)  # Output: [3, 6, 9, 12]"
      ]
    }
  ]
}