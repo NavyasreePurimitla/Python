#data types in python
a=43
b=45.56
c="Madhusree"
d=None
e=True

print(a)
print(b)
print(c)
print(d)
print(e)

print(type(a))
print(type(b))
print(type(c))
print(type(d))
print(type(e))

#arithematic operators
a=24
b=45
print(a+b)

a=24
b=34
c=27
print(a-b)
print(b/c)
print(a**2)
print(c//a)
print(b*a,(a-b))

a=23
b=32
print("a+b=",a+b)

#assignment operators
a=34
b=22
c=1
a+=2
b-=2
c==1
print(a,b,c)

#comparision operators
a=23
b=67
c=87

print(a==b)
print(b>c)
print(c<a)
print(a!=b)
print(a<b)

#logical operators
a=56
b=67
c=35
print(a==b and a<b)
print(c>b or c<a)
print(not(a==c))

#sum of two numbers
a=45
b=76
print(a+b)

#find the average of two numbers
a=int(input("enter the first number:"))
b=int(input("enter the second number:"))
print("the average of given two numbers is: ", a+b/2)
 
#calculate square of a number
a=int(input("enter the number: "))
print("the squared number of given number is:", a**2)







