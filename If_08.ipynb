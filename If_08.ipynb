{
  "nbformat": 4,
  "nbformat_minor": 0,
  "metadata": {
    "colab": {
      "provenance": [],
      "authorship_tag": "ABX9TyPtjCD4pp/dnsOx4WRle9Rq",
      "include_colab_link": true
    },
    "kernelspec": {
      "name": "python3",
      "display_name": "Python 3"
    },
    "language_info": {
      "name": "python"
    }
  },
  "cells": [
    {
      "cell_type": "markdown",
      "metadata": {
        "id": "view-in-github",
        "colab_type": "text"
      },
      "source": [
        "<a href=\"https://colab.research.google.com/github/NavyasreePurimitla/Python/blob/main/If_08.ipynb\" target=\"_parent\"><img src=\"https://colab.research.google.com/assets/colab-badge.svg\" alt=\"Open In Colab\"/></a>"
      ]
    },
    {
      "cell_type": "code",
      "execution_count": 1,
      "metadata": {
        "colab": {
          "base_uri": "https://localhost:8080/"
        },
        "id": "IJfo-i-90nC5",
        "outputId": "e6f72b8a-f4d5-4587-885a-50d89773f836"
      },
      "outputs": [
        {
          "output_type": "stream",
          "name": "stdout",
          "text": [
            "x is between 5 and 10\n"
          ]
        }
      ],
      "source": [
        "x = 8\n",
        "if x > 5:\n",
        "    if x < 10:\n",
        "        print(\"x is between 5 and 10\")"
      ]
    },
    {
      "cell_type": "code",
      "source": [
        "a=int(input(\"enter the value: \"))\n",
        "if a > 5:\n",
        "    print(\"a is greater than 5\")\n",
        "elif a == 3:\n",
        "    print(\"a is equal to 3\")\n",
        "else:\n",
        "    print(\"a is less than 3\")"
      ],
      "metadata": {
        "colab": {
          "base_uri": "https://localhost:8080/"
        },
        "id": "Bcljp2D11IbU",
        "outputId": "2a8d8c5b-ca95-40db-8c07-e5f417dd4d26"
      },
      "execution_count": 3,
      "outputs": [
        {
          "output_type": "stream",
          "name": "stdout",
          "text": [
            "enter the value: 6\n",
            "a is greater than 5\n"
          ]
        }
      ]
    }
  ]
}