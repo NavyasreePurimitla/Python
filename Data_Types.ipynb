{
  "nbformat": 4,
  "nbformat_minor": 0,
  "metadata": {
    "colab": {
      "provenance": [],
      "include_colab_link": true
    },
    "kernelspec": {
      "name": "python3",
      "display_name": "Python 3"
    },
    "language_info": {
      "name": "python"
    }
  },
  "cells": [
    {
      "cell_type": "markdown",
      "metadata": {
        "id": "view-in-github",
        "colab_type": "text"
      },
      "source": [
        "<a href=\"https://colab.research.google.com/github/NavyasreePurimitla/Python/blob/main/Data_Types.ipynb\" target=\"_parent\"><img src=\"https://colab.research.google.com/assets/colab-badge.svg\" alt=\"Open In Colab\"/></a>"
      ]
    },
    {
      "cell_type": "code",
      "execution_count": 1,
      "metadata": {
        "id": "LgdusmVK2cTJ",
        "outputId": "120101a5-db9e-46aa-9acd-5d39d365a2da",
        "colab": {
          "base_uri": "https://localhost:8080/"
        }
      },
      "outputs": [
        {
          "output_type": "stream",
          "name": "stdout",
          "text": [
            "43\n",
            "45.56\n",
            "Madhusree\n",
            "None\n",
            "True\n",
            "<class 'int'>\n",
            "<class 'float'>\n",
            "<class 'str'>\n",
            "<class 'NoneType'>\n",
            "<class 'bool'>\n",
            "69\n",
            "-10\n",
            "1.2592592592592593\n",
            "576\n",
            "1\n",
            "816 -10\n",
            "a+b= 55\n",
            "36 20 1\n",
            "False\n",
            "False\n",
            "False\n",
            "True\n",
            "True\n",
            "False\n",
            "True\n",
            "True\n",
            "121\n",
            "enter the first number:34\n",
            "enter the second number:56\n",
            "the average of given two numbers is:  62.0\n",
            "enter the number: 23\n",
            "the squared number of given number is: 529\n"
          ]
        }
      ],
      "source": [
        "#data types in python\n",
        "a=43\n",
        "b=45.56\n",
        "c=\"Madhusree\"\n",
        "d=None\n",
        "e=True\n",
        "\n",
        "print(a)\n",
        "print(b)\n",
        "print(c)\n",
        "print(d)\n",
        "print(e)\n",
        "\n",
        "print(type(a))\n",
        "print(type(b))\n",
        "print(type(c))\n",
        "print(type(d))\n",
        "print(type(e))\n",
        "\n",
        "#arithematic operators\n",
        "a=24\n",
        "b=45\n",
        "print(a+b)\n",
        "\n",
        "a=24\n",
        "b=34\n",
        "c=27\n",
        "print(a-b)\n",
        "print(b/c)\n",
        "print(a**2)\n",
        "print(c//a)\n",
        "print(b*a,(a-b))\n",
        "\n",
        "a=23\n",
        "b=32\n",
        "print(\"a+b=\",a+b)\n",
        "\n",
        "#assignment operators\n",
        "a=34\n",
        "b=22\n",
        "c=1\n",
        "a+=2\n",
        "b-=2\n",
        "c==1\n",
        "print(a,b,c)\n",
        "\n",
        "#comparision operators\n",
        "a=23\n",
        "b=67\n",
        "c=87\n",
        "\n",
        "print(a==b)\n",
        "print(b>c)\n",
        "print(c<a)\n",
        "print(a!=b)\n",
        "print(a<b)\n",
        "\n",
        "#logical operators\n",
        "a=56\n",
        "b=67\n",
        "c=35\n",
        "print(a==b and a<b)\n",
        "print(c>b or c<a)\n",
        "print(not(a==c))\n",
        "\n",
        "#sum of two numbers\n",
        "a=45\n",
        "b=76\n",
        "print(a+b)\n",
        "\n",
        "#find the average of two numbers\n",
        "a=int(input(\"enter the first number:\"))\n",
        "b=int(input(\"enter the second number:\"))\n",
        "print(\"the average of given two numbers is: \", a+b/2)\n",
        "\n",
        "#calculate square of a number\n",
        "a=int(input(\"enter the number: \"))\n",
        "print(\"the squared number of given number is:\", a**2)\n",
        "\n",
        "\n",
        "\n",
        "\n",
        "\n",
        "\n",
        "\n"
      ]
    }
  ]
}