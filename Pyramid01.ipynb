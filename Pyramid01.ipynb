{
  "cells": [
    {
      "cell_type": "markdown",
      "metadata": {
        "id": "view-in-github",
        "colab_type": "text"
      },
      "source": [
        "<a href=\"https://colab.research.google.com/github/NavyasreePurimitla/Python/blob/main/Pyramid01.ipynb\" target=\"_parent\"><img src=\"https://colab.research.google.com/assets/colab-badge.svg\" alt=\"Open In Colab\"/></a>"
      ]
    },
    {
      "cell_type": "code",
      "execution_count": null,
      "metadata": {
        "colab": {
          "base_uri": "https://localhost:8080/"
        },
        "id": "rp4jzYIlDxeI",
        "outputId": "fb0c4ea6-a03d-4570-820c-4472dbd023b6"
      },
      "outputs": [
        {
          "output_type": "stream",
          "name": "stdout",
          "text": [
            "Enter the number of Rows: 8\n",
            "# \n",
            "# # \n",
            "# # # \n",
            "# # # # \n",
            "# # # # # \n",
            "# # # # # # \n",
            "# # # # # # # \n",
            "# # # # # # # # \n"
          ]
        }
      ],
      "source": [
        "row = int(input(\"Enter the number of Rows: \"))\n",
        "\n",
        "for i in range (0, row):\n",
        "  for j in range(0, row - i - 1):\n",
        "    print(end=\"\")\n",
        "  for k in range(0,i + 1):\n",
        "    print(\"# \", end=\"\")\n",
        "  print()"
      ]
    },
    {
      "cell_type": "code",
      "execution_count": null,
      "metadata": {
        "colab": {
          "background_save": true
        },
        "id": "019_vRDqHJjX",
        "outputId": "f3f8adec-7e39-4735-d897-717e3a2b633d"
      },
      "outputs": [
        {
          "name": "stdout",
          "output_type": "stream",
          "text": [
            "# \n",
            "# # # \n",
            "# # # # # \n",
            "# # # # # # # \n",
            "# # # # # # # # # \n"
          ]
        }
      ],
      "source": [
        "row = int(input(\"Enter the number of Rows: \"))\n",
        "\n",
        "for i in range (0, row,2):\n",
        "  for j in range(0, row - i - 1):\n",
        "    print(\"\", end=\"\")\n",
        "  for k in range(0, i + 1):\n",
        "    print(\"# \", end=\"\")\n",
        "  print()"
      ]
    }
  ],
  "metadata": {
    "colab": {
      "provenance": [],
      "authorship_tag": "ABX9TyPOw/Ako5uxutuvqYfS0LJm",
      "include_colab_link": true
    },
    "kernelspec": {
      "display_name": "Python 3",
      "name": "python3"
    },
    "language_info": {
      "name": "python"
    }
  },
  "nbformat": 4,
  "nbformat_minor": 0
}