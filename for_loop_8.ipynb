{
  "nbformat": 4,
  "nbformat_minor": 0,
  "metadata": {
    "colab": {
      "provenance": [],
      "authorship_tag": "ABX9TyPtBrAednrj0aT9kOQQs4VB",
      "include_colab_link": true
    },
    "kernelspec": {
      "name": "python3",
      "display_name": "Python 3"
    },
    "language_info": {
      "name": "python"
    }
  },
  "cells": [
    {
      "cell_type": "markdown",
      "metadata": {
        "id": "view-in-github",
        "colab_type": "text"
      },
      "source": [
        "<a href=\"https://colab.research.google.com/github/NavyasreePurimitla/Python/blob/main/for_loop_8.ipynb\" target=\"_parent\"><img src=\"https://colab.research.google.com/assets/colab-badge.svg\" alt=\"Open In Colab\"/></a>"
      ]
    },
    {
      "cell_type": "code",
      "execution_count": 14,
      "metadata": {
        "colab": {
          "base_uri": "https://localhost:8080/"
        },
        "id": "sEGyHKOInIOy",
        "outputId": "4bdb27ab-5d13-456c-f6ed-a39074d8946c"
      },
      "outputs": [
        {
          "output_type": "stream",
          "name": "stdout",
          "text": [
            "Enter the value to find multiplication of an number: 13\n",
            "Multiplication table for the given below input number:\n",
            "13x1=13\n",
            "13x2=26\n",
            "13x3=39\n",
            "13x4=52\n",
            "13x5=65\n",
            "13x6=78\n",
            "13x7=91\n",
            "13x8=104\n",
            "13x9=117\n",
            "13x10=130\n",
            "\n",
            "Enter the value to find multiplication of an number: 23\n",
            "Multiplication table for the given below input number:\n",
            "23x1=23\n",
            "23x2=46\n",
            "23x3=69\n",
            "23x4=92\n",
            "23x5=115\n",
            "23x6=138\n",
            "23x7=161\n",
            "23x8=184\n",
            "23x9=207\n",
            "23x10=230\n",
            "23x11=253\n",
            "23x12=276\n",
            "23x13=299\n",
            "23x14=322\n",
            "23x15=345\n",
            "23x16=368\n",
            "23x17=391\n",
            "23x18=414\n",
            "23x19=437\n",
            "23x20=460\n",
            "\n"
          ]
        }
      ],
      "source": [
        "number=int(input(\"Enter the value to find multiplication of an number: \"))\n",
        "print(\"Multiplication table for the given below input number:\")\n",
        "for i in range(10):\n",
        "  print(f\"{number}x{i+1}={number*(i+1)}\")\n",
        "print()\n",
        "\n",
        "number=int(input(\"Enter the value to find multiplication of an number: \"))\n",
        "print(\"Multiplication table for the given below input number:\")\n",
        "for i in range(20):\n",
        "  print(f\"{number}x{i+1}={number*(i+1)}\")\n",
        "print()\n"
      ]
    }
  ]
}