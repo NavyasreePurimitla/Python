{
  "nbformat": 4,
  "nbformat_minor": 0,
  "metadata": {
    "colab": {
      "provenance": [],
      "authorship_tag": "ABX9TyN11/rZXQQjqkkcZzP4v15v",
      "include_colab_link": true
    },
    "kernelspec": {
      "name": "python3",
      "display_name": "Python 3"
    },
    "language_info": {
      "name": "python"
    }
  },
  "cells": [
    {
      "cell_type": "markdown",
      "metadata": {
        "id": "view-in-github",
        "colab_type": "text"
      },
      "source": [
        "<a href=\"https://colab.research.google.com/github/NavyasreePurimitla/Python/blob/main/Types_of_list04.ipynb\" target=\"_parent\"><img src=\"https://colab.research.google.com/assets/colab-badge.svg\" alt=\"Open In Colab\"/></a>"
      ]
    },
    {
      "cell_type": "code",
      "execution_count": 1,
      "metadata": {
        "colab": {
          "base_uri": "https://localhost:8080/"
        },
        "id": "LW5RNGjhbD9Q",
        "outputId": "91e75ba4-6108-484a-f89c-4e75cf6f8aba"
      },
      "outputs": [
        {
          "output_type": "stream",
          "name": "stdout",
          "text": [
            "After appending: ['apple', 'banana', 'cherry']\n",
            "After popping: ['apple', 'banana']\n"
          ]
        }
      ],
      "source": [
        "\n",
        "#Dynamic List:\n",
        "#Start with an empty list\n",
        "my_list = []\n",
        "\n",
        "# Add elements dynamically\n",
        "my_list.append(\"apple\")\n",
        "my_list.append(\"banana\")\n",
        "my_list.append(\"cherry\")\n",
        "\n",
        "print(\"After appending:\", my_list)\n",
        "\n",
        "# Remove the last element\n",
        "my_list.pop()\n",
        "\n",
        "print(\"After popping:\", my_list)"
      ]
    }
  ]
}