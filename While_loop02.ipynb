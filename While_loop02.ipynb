{
  "nbformat": 4,
  "nbformat_minor": 0,
  "metadata": {
    "colab": {
      "provenance": [],
      "authorship_tag": "ABX9TyMLwLiWrZbMhe0PeiVvNH4k",
      "include_colab_link": true
    },
    "kernelspec": {
      "name": "python3",
      "display_name": "Python 3"
    },
    "language_info": {
      "name": "python"
    }
  },
  "cells": [
    {
      "cell_type": "markdown",
      "metadata": {
        "id": "view-in-github",
        "colab_type": "text"
      },
      "source": [
        "<a href=\"https://colab.research.google.com/github/NavyasreePurimitla/Python/blob/main/While_loop02.ipynb\" target=\"_parent\"><img src=\"https://colab.research.google.com/assets/colab-badge.svg\" alt=\"Open In Colab\"/></a>"
      ]
    },
    {
      "cell_type": "code",
      "execution_count": 1,
      "metadata": {
        "colab": {
          "base_uri": "https://localhost:8080/"
        },
        "id": "eQoJYug2bz25",
        "outputId": "a21b8e38-7415-42f3-d954-f8e3e70f60eb"
      },
      "outputs": [
        {
          "output_type": "stream",
          "name": "stdout",
          "text": [
            "input value with skip of 1\n",
            "enter the input of value maximum limit of 5: 4\n",
            "4\n",
            "5\n",
            "\n",
            "input value with skip of 2\n",
            "enter the input of value maximum limit of 15: 13\n",
            "13\n",
            "15\n",
            "\n",
            "input value with reverse skip of 1\n",
            "enter the input of value minimum limit of 4: 2\n",
            "\n",
            "enter the value to find out square with limit of 40\n",
            "enter the value to find square: 23\n",
            "23\n",
            "\n",
            "enter the value to find out cube with limit of 40\n",
            "enter the value to find cube: 28\n",
            "28\n"
          ]
        }
      ],
      "source": [
        "\n",
        "print(\"input value with skip of 1\")\n",
        "count = int(input(\"enter the input of value maximum limit of 5: \"))\n",
        "while count <= 5:\n",
        "   print(count)\n",
        "   count += 1\n",
        "\n",
        "print(\"\\ninput value with skip of 2\")\n",
        "count = int(input(\"enter the input of value maximum limit of 15: \"))\n",
        "while count <= 15:\n",
        "   print(count)\n",
        "   count += 2\n",
        "\n",
        "print(\"\\ninput value with reverse skip of 1\")\n",
        "count = int(input(\"enter the input of value minimum limit of 4: \"))\n",
        "while count >= 4:\n",
        "   print(count)\n",
        "   count -= 1\n",
        "\n",
        "print(\"\\nenter the value to find out square with limit of 40\")\n",
        "count = int(input(\"enter the value to find square: \"))\n",
        "while count <= 40:\n",
        "   print(count)\n",
        "   count *= 2\n",
        "\n",
        "print(\"\\nenter the value to find out cube with limit of 40\")\n",
        "count = int(input(\"enter the value to find cube: \"))\n",
        "while count <= 40:\n",
        "   print(count)\n",
        "   count *= 3"
      ]
    }
  ]
}