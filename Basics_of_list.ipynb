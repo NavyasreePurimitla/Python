{
  "nbformat": 4,
  "nbformat_minor": 0,
  "metadata": {
    "colab": {
      "provenance": [],
      "authorship_tag": "ABX9TyPd6iWof5s0ObpF62np860A",
      "include_colab_link": true
    },
    "kernelspec": {
      "name": "python3",
      "display_name": "Python 3"
    },
    "language_info": {
      "name": "python"
    }
  },
  "cells": [
    {
      "cell_type": "markdown",
      "metadata": {
        "id": "view-in-github",
        "colab_type": "text"
      },
      "source": [
        "<a href=\"https://colab.research.google.com/github/NavyasreePurimitla/Python/blob/main/Basics_of_list.ipynb\" target=\"_parent\"><img src=\"https://colab.research.google.com/assets/colab-badge.svg\" alt=\"Open In Colab\"/></a>"
      ]
    },
    {
      "cell_type": "code",
      "execution_count": 1,
      "metadata": {
        "colab": {
          "base_uri": "https://localhost:8080/"
        },
        "id": "hN-_s8ofV_g0",
        "outputId": "0702cf91-6c73-4105-deb9-3190ff66fd1c"
      },
      "outputs": [
        {
          "output_type": "stream",
          "name": "stdout",
          "text": [
            "[23, 'Apple', True, 28.5]\n",
            "<class 'list'>\n",
            "[23, 28, 'apple']\n",
            "28\n",
            "apple\n",
            "[23, 28, 'apple']\n"
          ]
        }
      ],
      "source": [
        "\n",
        " a = 23\n",
        " b = \"Apple\"\n",
        " c = True\n",
        " d = 28.5\n",
        "\n",
        " my_list = [a,b,c,d]\n",
        " print(my_list)\n",
        " print(type(my_list))\n",
        "\n",
        "#list indexing\n",
        "my_list = [23, 28, \"apple\"]\n",
        "\n",
        "print(my_list[0:3])\n",
        "print(my_list[1])\n",
        "print(my_list[2])\n",
        "print(my_list[0:])"
      ]
    }
  ]
}