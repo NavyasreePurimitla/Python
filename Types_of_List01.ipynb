{
  "nbformat": 4,
  "nbformat_minor": 0,
  "metadata": {
    "colab": {
      "provenance": [],
      "authorship_tag": "ABX9TyNeyp8KCsZVEQETFdVZrC6u",
      "include_colab_link": true
    },
    "kernelspec": {
      "name": "python3",
      "display_name": "Python 3"
    },
    "language_info": {
      "name": "python"
    }
  },
  "cells": [
    {
      "cell_type": "markdown",
      "metadata": {
        "id": "view-in-github",
        "colab_type": "text"
      },
      "source": [
        "<a href=\"https://colab.research.google.com/github/NavyasreePurimitla/Python/blob/main/Types_of_List01.ipynb\" target=\"_parent\"><img src=\"https://colab.research.google.com/assets/colab-badge.svg\" alt=\"Open In Colab\"/></a>"
      ]
    },
    {
      "cell_type": "code",
      "execution_count": null,
      "metadata": {
        "id": "tIyD4D63oTUv"
      },
      "outputs": [],
      "source": [
        "#Homogeneous list\n",
        "numbers=[1,2,3,4,5,6,7,8]\n",
        "#performing operations on the list\n",
        "sum_of_numbers=sum(numbers)\n",
        "max_values=max(numbers)\n",
        "min_values=min(numbers)\n",
        "print(\"list of numbers: \", numbers)\n",
        "print(\"Sum of list: \", sum_of_numbers)\n",
        "print(\"Maximum Value of the List: \", max_values)\n",
        "print(\"Minimum Value of the list: \", min_values)"
      ]
    }
  ]
}