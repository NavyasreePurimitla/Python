{
  "nbformat": 4,
  "nbformat_minor": 0,
  "metadata": {
    "colab": {
      "provenance": [],
      "authorship_tag": "ABX9TyONTIl/2s3fbjL4e56XKAs6",
      "include_colab_link": true
    },
    "kernelspec": {
      "name": "python3",
      "display_name": "Python 3"
    },
    "language_info": {
      "name": "python"
    }
  },
  "cells": [
    {
      "cell_type": "markdown",
      "metadata": {
        "id": "view-in-github",
        "colab_type": "text"
      },
      "source": [
        "<a href=\"https://colab.research.google.com/github/NavyasreePurimitla/Python/blob/main/Types_of_List01.ipynb\" target=\"_parent\"><img src=\"https://colab.research.google.com/assets/colab-badge.svg\" alt=\"Open In Colab\"/></a>"
      ]
    },
    {
      "cell_type": "code",
      "execution_count": null,
      "metadata": {
        "id": "tIyD4D63oTUv"
      },
      "outputs": [],
      "source": [
        "#Creating a Homogeneous list of integers\n",
        "numbers=[1,2,3,4,5,6,7,8]\n",
        "\n",
        "#performing operations on the list\n",
        "sum_of_numbers=sum(numbers)\n",
        "max_values=max(numbers)\n",
        "min_values=min(numbers)\n",
        "\n",
        "print(\"list of numbers: \", numbers)\n",
        "print(\"Sum of list: \", sum_of_numbers)\n",
        "print(\"Maximum Value of the List: \", max_values)\n",
        "print(\"Minimum Value of the list: \", min_values)\n",
        "\n",
        "# Creating a homogeneous list of strings\n",
        "fruits = [\"Apple\", \"Banana\", \"Dragon fruit\", \"Orange\", \"Mango\"]\n",
        "\n",
        "# Performing operations on the list\n",
        "fruits_sorted = sorted(fruits)  # Sorting the list\n",
        "longest_fruit = max(fruits, key=len)  # Finding the longest string\n",
        "\n",
        "# Displaying results\n",
        "print(\"List of fruits:\", fruits)\n",
        "print(\"Sorted fruits:\", fruits_sorted)\n",
        "print(\"Longest fruit name:\", longest_fruit)"
      ]
    }
  ]
}