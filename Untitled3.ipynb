{
  "nbformat": 4,
  "nbformat_minor": 0,
  "metadata": {
    "colab": {
      "provenance": [],
      "authorship_tag": "ABX9TyNlA1jsXl0iQg/7HTqx/oSf",
      "include_colab_link": true
    },
    "kernelspec": {
      "name": "python3",
      "display_name": "Python 3"
    },
    "language_info": {
      "name": "python"
    }
  },
  "cells": [
    {
      "cell_type": "markdown",
      "metadata": {
        "id": "view-in-github",
        "colab_type": "text"
      },
      "source": [
        "<a href=\"https://colab.research.google.com/github/NavyasreePurimitla/Python/blob/main/Untitled3.ipynb\" target=\"_parent\"><img src=\"https://colab.research.google.com/assets/colab-badge.svg\" alt=\"Open In Colab\"/></a>"
      ]
    },
    {
      "cell_type": "code",
      "execution_count": 8,
      "metadata": {
        "colab": {
          "base_uri": "https://localhost:8080/"
        },
        "id": "3kH7yBLO5ba5",
        "outputId": "6f6c5f6f-8c6e-417e-ba1a-7abc80828b77"
      },
      "outputs": [
        {
          "output_type": "stream",
          "name": "stdout",
          "text": [
            "{1, 2, 4, 6, 8, 9}\n",
            "{2, 3, 4, 5, 7, 8}\n",
            "{2, 4, 6, 8, 9}\n"
          ]
        }
      ],
      "source": [
        "a = {1,4,6,8,2,9}\n",
        "b = {2,4,7,8,3,5}\n",
        "\n",
        "#union():\n",
        "a.union(a)\n",
        "print(a)\n",
        "\n",
        "#intersection():\n",
        "b.intersection(b)\n",
        "print(b)\n",
        "\n",
        "#pop():\n",
        "a.pop()\n",
        "print(a)"
      ]
    }
  ]
}