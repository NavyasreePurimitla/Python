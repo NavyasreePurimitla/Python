{
  "nbformat": 4,
  "nbformat_minor": 0,
  "metadata": {
    "colab": {
      "provenance": [],
      "authorship_tag": "ABX9TyPsrTUeCDXuAm6k+fruxUnp",
      "include_colab_link": true
    },
    "kernelspec": {
      "name": "python3",
      "display_name": "Python 3"
    },
    "language_info": {
      "name": "python"
    }
  },
  "cells": [
    {
      "cell_type": "markdown",
      "metadata": {
        "id": "view-in-github",
        "colab_type": "text"
      },
      "source": [
        "<a href=\"https://colab.research.google.com/github/NavyasreePurimitla/Python/blob/main/list05.ipynb\" target=\"_parent\"><img src=\"https://colab.research.google.com/assets/colab-badge.svg\" alt=\"Open In Colab\"/></a>"
      ]
    },
    {
      "cell_type": "code",
      "execution_count": 6,
      "metadata": {
        "id": "VAsyQF-ogLql",
        "colab": {
          "base_uri": "https://localhost:8080/"
        },
        "outputId": "38ae57c1-ac23-490c-dcb6-b7f88fac61cf"
      },
      "outputs": [
        {
          "output_type": "stream",
          "name": "stdout",
          "text": [
            "Enter the fruit name 1: Apple\n",
            "Enter the fruit name 2: Bannana\n",
            "Enter the fruit name 3: Orange\n",
            "Enter the fruit name 4: Dragon Fruit\n",
            "Enter the fruit name 5: Grapes\n",
            "Enter the fruit name 6: Pine Apple\n",
            "Enter the fruit name 7: Custard apple\n",
            "['Apple', 'Bannana', 'Orange', 'Dragon Fruit', 'Grapes', 'Pine Apple', 'Custard apple']\n",
            "The Fruits ['Apple', 'Grapes', 'Pine Apple'] are My Favorite\n"
          ]
        }
      ],
      "source": [
        "f1 = input(\"Enter the fruit name 1: \")\n",
        "f2 = input(\"Enter the fruit name 2: \")\n",
        "f3 = input(\"Enter the fruit name 3: \")\n",
        "f4 = input(\"Enter the fruit name 4: \")\n",
        "f5 = input(\"Enter the fruit name 5: \")\n",
        "f6 = input(\"Enter the fruit name 6: \")\n",
        "f7 = input(\"Enter the fruit name 7: \")\n",
        "\n",
        "fruit_list = [f1,f2,f3,f4,f5,f6,f7]\n",
        "print(fruit_list)\n",
        "mylist = [f1,f5,f6]\n",
        "print(f\"The Fruits {mylist} are My Favorite\")"
      ]
    }
  ]
}