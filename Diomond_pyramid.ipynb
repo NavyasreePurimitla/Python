{
  "nbformat": 4,
  "nbformat_minor": 0,
  "metadata": {
    "colab": {
      "provenance": [],
      "authorship_tag": "ABX9TyNp+gYnPurfThv6EZKBDl72",
      "include_colab_link": true
    },
    "kernelspec": {
      "name": "python3",
      "display_name": "Python 3"
    },
    "language_info": {
      "name": "python"
    }
  },
  "cells": [
    {
      "cell_type": "markdown",
      "metadata": {
        "id": "view-in-github",
        "colab_type": "text"
      },
      "source": [
        "<a href=\"https://colab.research.google.com/github/NavyasreePurimitla/Python/blob/main/Diomond_pyramid.ipynb\" target=\"_parent\"><img src=\"https://colab.research.google.com/assets/colab-badge.svg\" alt=\"Open In Colab\"/></a>"
      ]
    },
    {
      "cell_type": "code",
      "execution_count": 7,
      "metadata": {
        "colab": {
          "base_uri": "https://localhost:8080/"
        },
        "id": "qZ5Fy9xQO6F7",
        "outputId": "9573bc84-a995-45c9-d836-f155aa84c393"
      },
      "outputs": [
        {
          "output_type": "stream",
          "name": "stdout",
          "text": [
            "Creating a diomond pyramid by using for loop\n",
            "Enter the value: 10\n",
            "\n",
            "         *\n",
            "        ***\n",
            "       *****\n",
            "      *******\n",
            "     *********\n",
            "    ***********\n",
            "   *************\n",
            "  ***************\n",
            " *****************\n",
            "*******************\n",
            " *****************\n",
            "  ***************\n",
            "   *************\n",
            "    ***********\n",
            "     *********\n",
            "      *******\n",
            "       *****\n",
            "        ***\n",
            "         *\n",
            "\n"
          ]
        }
      ],
      "source": [
        "\n",
        "print(\"Creating a diomond pyramid by using for loop\")\n",
        "a=int(input(\"Enter the value: \"))\n",
        "print()\n",
        "# Upper pyramid\n",
        "for i in range(a):\n",
        "  print(\" \" * (a - i - 1) + \"*\" * (2 * i + 1))\n",
        "# Lower inverted pyramid\n",
        "for i in range(a - 1):\n",
        "  print(\" \" * (i + 1) + \"*\" * (2 * (a - i - 1) - 1))\n",
        "print()"
      ]
    }
  ]
}