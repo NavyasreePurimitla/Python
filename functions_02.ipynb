{
  "nbformat": 4,
  "nbformat_minor": 0,
  "metadata": {
    "colab": {
      "provenance": [],
      "authorship_tag": "ABX9TyPF+PHg3gST6pB1s+ezieSp",
      "include_colab_link": true
    },
    "kernelspec": {
      "name": "python3",
      "display_name": "Python 3"
    },
    "language_info": {
      "name": "python"
    }
  },
  "cells": [
    {
      "cell_type": "markdown",
      "metadata": {
        "id": "view-in-github",
        "colab_type": "text"
      },
      "source": [
        "<a href=\"https://colab.research.google.com/github/NavyasreePurimitla/Python/blob/main/functions_02.ipynb\" target=\"_parent\"><img src=\"https://colab.research.google.com/assets/colab-badge.svg\" alt=\"Open In Colab\"/></a>"
      ]
    },
    {
      "cell_type": "code",
      "execution_count": 7,
      "metadata": {
        "colab": {
          "base_uri": "https://localhost:8080/"
        },
        "id": "jacLJYKS6BUe",
        "outputId": "25c3d351-705b-4e1d-abc6-a373e1b56991"
      },
      "outputs": [
        {
          "output_type": "stream",
          "name": "stdout",
          "text": [
            "Hello...\n",
            "Hello...\n",
            "\n",
            "Hello\n",
            "Good Morning....\n",
            "\n",
            "This is Purimitla Navyasree\n",
            "I am from Tirupati\n",
            "I am studying BTech Final Year \n",
            "In the Stream of Electrical and Electronics Engineering\n",
            "\n",
            "Hello\n",
            "Good Morning....\n",
            "\n",
            "This is Purimitla Navyasree\n",
            "I am from Tirupati\n",
            "I am studying BTech Final Year \n",
            "In the Stream of Electrical and Electronics Engineering\n",
            "\n"
          ]
        }
      ],
      "source": [
        "def func1():\n",
        "  print(\"Hello...\")\n",
        "\n",
        "func1()\n",
        "func1()\n",
        "print()\n",
        "\n",
        "def a():\n",
        "  print(\"Hello\")\n",
        "  print(\"Good Morning....\")\n",
        "\n",
        "def b():\n",
        "  print(\"This is Purimitla Navyasree\")\n",
        "  print(\"I am from Tirupati\")\n",
        "  print(\"I am studying BTech Final Year \")\n",
        "  print(\"In the Stream of Electrical and Electronics Engineering\")\n",
        "\n",
        "a()\n",
        "print()\n",
        "b()\n",
        "print()\n",
        "a()\n",
        "print()\n",
        "b()\n",
        "print()\n"
      ]
    }
  ]
}