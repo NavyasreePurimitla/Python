{
  "nbformat": 4,
  "nbformat_minor": 0,
  "metadata": {
    "colab": {
      "provenance": [],
      "authorship_tag": "ABX9TyOlTL5n5P3mSxvcSOk8y4YY",
      "include_colab_link": true
    },
    "kernelspec": {
      "name": "python3",
      "display_name": "Python 3"
    },
    "language_info": {
      "name": "python"
    }
  },
  "cells": [
    {
      "cell_type": "markdown",
      "metadata": {
        "id": "view-in-github",
        "colab_type": "text"
      },
      "source": [
        "<a href=\"https://colab.research.google.com/github/NavyasreePurimitla/Python/blob/main/sets.ipynb\" target=\"_parent\"><img src=\"https://colab.research.google.com/assets/colab-badge.svg\" alt=\"Open In Colab\"/></a>"
      ]
    },
    {
      "cell_type": "code",
      "execution_count": 1,
      "metadata": {
        "colab": {
          "base_uri": "https://localhost:8080/"
        },
        "id": "I-6KZCeW4z9L",
        "outputId": "a6db4e11-283a-40c8-9074-4f6d68775ad8"
      },
      "outputs": [
        {
          "output_type": "stream",
          "name": "stdout",
          "text": [
            "{1, 3, 6, 23, 8, '6', 11, 28}\n",
            "{1, 6, 23, 8, '6', 11, 28}\n",
            "7\n",
            "set()\n"
          ]
        }
      ],
      "source": [
        "myset = {1,3,6,11,8,23}\n",
        "\n",
        "#add():\n",
        "myset.add(28)\n",
        "myset.add(\"6\")\n",
        "print(myset)\n",
        "\n",
        "#remove():\n",
        "myset.remove(3)\n",
        "print(myset)\n",
        "print(len(myset))\n",
        "\n",
        "#clear():\n",
        "myset.clear()\n",
        "print(myset)"
      ]
    }
  ]
}