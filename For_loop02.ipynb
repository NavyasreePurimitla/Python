{
  "nbformat": 4,
  "nbformat_minor": 0,
  "metadata": {
    "colab": {
      "provenance": [],
      "authorship_tag": "ABX9TyOLUcELVvPLrqMUOiuBY9XR",
      "include_colab_link": true
    },
    "kernelspec": {
      "name": "python3",
      "display_name": "Python 3"
    },
    "language_info": {
      "name": "python"
    }
  },
  "cells": [
    {
      "cell_type": "markdown",
      "metadata": {
        "id": "view-in-github",
        "colab_type": "text"
      },
      "source": [
        "<a href=\"https://colab.research.google.com/github/NavyasreePurimitla/Python/blob/main/For_loop02.ipynb\" target=\"_parent\"><img src=\"https://colab.research.google.com/assets/colab-badge.svg\" alt=\"Open In Colab\"/></a>"
      ]
    },
    {
      "cell_type": "code",
      "execution_count": null,
      "metadata": {
        "colab": {
          "base_uri": "https://localhost:8080/"
        },
        "id": "mzDpRaccVAYS",
        "outputId": "e27dc77e-87af-45df-8473-7f1e80091758"
      },
      "outputs": [
        {
          "output_type": "stream",
          "name": "stdout",
          "text": [
            "0\n",
            "1\n",
            "2\n",
            "3\n",
            "4\n",
            "5\n",
            "2\n",
            "4\n",
            "6\n",
            "8\n",
            "10\n",
            "12\n",
            "3\n",
            "4\n",
            "5\n",
            "6\n",
            "7\n",
            "8\n",
            "9\n",
            "10\n",
            "11\n",
            "1\n",
            "3\n",
            "5\n",
            "7\n",
            "9\n",
            "11\n",
            "13\n",
            "15\n",
            "17\n",
            "19\n",
            "21\n",
            "23\n",
            "25\n",
            "27\n",
            "29\n",
            "P\n",
            "y\n",
            "t\n",
            "h\n",
            "o\n",
            "n\n",
            "enter the string charactersHoney\n",
            "H\n",
            "o\n",
            "n\n",
            "e\n",
            "y\n"
          ]
        }
      ],
      "source": [
        "# for loop\n",
        "for number1 in range(6):\n",
        "   print(number1)\n",
        "\n",
        "for number2 in range(2,14,2):\n",
        "   print(number2)\n",
        "\n",
        "for number3 in range(3,12):\n",
        "   print(number3)\n",
        "\n",
        "for odd_numbers in range(1,30,2):\n",
        "   print(odd_numbers)\n",
        "\n",
        "for characters in (\"Python\"):\n",
        "   print(characters)\n",
        "\n",
        "for characters2 in (input(\"enter the string characters\")):\n",
        "   print(characters2)"
      ]
    }
  ]
}