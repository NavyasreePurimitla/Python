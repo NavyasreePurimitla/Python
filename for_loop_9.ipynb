{
  "nbformat": 4,
  "nbformat_minor": 0,
  "metadata": {
    "colab": {
      "provenance": [],
      "authorship_tag": "ABX9TyOXPGVedwE9hJraOCDC+Pgn",
      "include_colab_link": true
    },
    "kernelspec": {
      "name": "python3",
      "display_name": "Python 3"
    },
    "language_info": {
      "name": "python"
    }
  },
  "cells": [
    {
      "cell_type": "markdown",
      "metadata": {
        "id": "view-in-github",
        "colab_type": "text"
      },
      "source": [
        "<a href=\"https://colab.research.google.com/github/NavyasreePurimitla/Python/blob/main/for_loop_9.ipynb\" target=\"_parent\"><img src=\"https://colab.research.google.com/assets/colab-badge.svg\" alt=\"Open In Colab\"/></a>"
      ]
    },
    {
      "cell_type": "code",
      "execution_count": 17,
      "metadata": {
        "colab": {
          "base_uri": "https://localhost:8080/"
        },
        "id": "Jl9x2G4Z0GPc",
        "outputId": "af5fa985-1251-40f0-d91f-4cac5f348218"
      },
      "outputs": [
        {
          "output_type": "stream",
          "name": "stdout",
          "text": [
            "To find out the BTech Graduates above list of Students: \n",
            "\n",
            "STUDENTS:\n",
            " P Swapna BTech\n",
            " K Harshitha Diploma\n",
            " T Madhan BTech\n",
            " R Priyanka Degree\n",
            " L Sanjana Inter\n",
            " S Annapurna BTech\n",
            " P Suresh Babu BTech\n",
            "\n",
            "You are Eligible for My Company: P Swapna BTech\n",
            "You are Eligible for My Company: T Madhan BTech\n",
            "You are Eligible for My Company: S Annapurna BTech\n",
            "You are Eligible for My Company: P Suresh Babu BTech\n"
          ]
        }
      ],
      "source": [
        "print(\"To find out the BTech Graduates above list of Students: \")\n",
        "print()\n",
        "print(\"STUDENTS:\")\n",
        "print(\" P Swapna BTech\\n\", \"K Harshitha Diploma\\n\", \"T Madhan BTech\\n\", \"R Priyanka Degree\\n\", \"L Sanjana Inter\\n\", \"S Annapurna BTech\\n\", \"P Suresh Babu BTech\")\n",
        "print()\n",
        "names=[\"P Swapna BTech\", \"K Harshitha Diploma\", \"T Madhan BTech\", \"R Priyanka Degree\", \"L Sanjana Inter\", \"S Annapurna BTech\", \"P Suresh Babu BTech\"]\n",
        "for names in names:\n",
        "  if names.endswith(\"BTech\"):\n",
        "    print(f\"You are Eligible for My Company: {names}\")"
      ]
    }
  ]
}