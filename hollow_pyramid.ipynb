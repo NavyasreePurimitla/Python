{
  "nbformat": 4,
  "nbformat_minor": 0,
  "metadata": {
    "colab": {
      "provenance": [],
      "authorship_tag": "ABX9TyMEo3o/gWnolN127LdHXc5N",
      "include_colab_link": true
    },
    "kernelspec": {
      "name": "python3",
      "display_name": "Python 3"
    },
    "language_info": {
      "name": "python"
    }
  },
  "cells": [
    {
      "cell_type": "markdown",
      "metadata": {
        "id": "view-in-github",
        "colab_type": "text"
      },
      "source": [
        "<a href=\"https://colab.research.google.com/github/NavyasreePurimitla/Python/blob/main/hollow_pyramid.ipynb\" target=\"_parent\"><img src=\"https://colab.research.google.com/assets/colab-badge.svg\" alt=\"Open In Colab\"/></a>"
      ]
    },
    {
      "cell_type": "code",
      "execution_count": 6,
      "metadata": {
        "colab": {
          "base_uri": "https://localhost:8080/"
        },
        "id": "XVMuJmKWQQVZ",
        "outputId": "3689bd32-68ce-492f-cb53-347737b14838"
      },
      "outputs": [
        {
          "output_type": "stream",
          "name": "stdout",
          "text": [
            "Enter the value: 10\n",
            "\n",
            "Creating a Hollow Pyramid: \n",
            "          \n",
            "         * \n",
            "        * * \n",
            "       *   *\n",
            "      *     *\n",
            "     *       *\n",
            "    *         *\n",
            "   *           *\n",
            "  *             *\n",
            " *               *\n",
            "* * * * * * * * * * \n"
          ]
        }
      ],
      "source": [
        "\n",
        "a=int(input(\"Enter the value: \"))\n",
        "print()\n",
        "print(\"Creating a Hollow Pyramid: \")\n",
        "\n",
        "for i in range(a+1):\n",
        "  left_spaces=\" \"*(a-i)\n",
        "\n",
        "  if i>2 and i<a:\n",
        "    hollow_spaces=\"  \"*(i-2)\n",
        "    stars = \"* \" + hollow_spaces + \"*\"\n",
        "    print(left_spaces+stars)\n",
        "  else:\n",
        "    stars=\"* \"*i\n",
        "    print(left_spaces + stars)"
      ]
    }
  ]
}