{
  "nbformat": 4,
  "nbformat_minor": 0,
  "metadata": {
    "colab": {
      "provenance": [],
      "authorship_tag": "ABX9TyMlncQVgdCm7bg59JtqyERg",
      "include_colab_link": true
    },
    "kernelspec": {
      "name": "python3",
      "display_name": "Python 3"
    },
    "language_info": {
      "name": "python"
    }
  },
  "cells": [
    {
      "cell_type": "markdown",
      "metadata": {
        "id": "view-in-github",
        "colab_type": "text"
      },
      "source": [
        "<a href=\"https://colab.research.google.com/github/NavyasreePurimitla/Python/blob/main/List_of_methods.ipynb\" target=\"_parent\"><img src=\"https://colab.research.google.com/assets/colab-badge.svg\" alt=\"Open In Colab\"/></a>"
      ]
    },
    {
      "cell_type": "code",
      "execution_count": null,
      "metadata": {
        "id": "zYxOFijyXBIG"
      },
      "outputs": [],
      "source": [
        "list = [1,3,2,6,9,23,56,12,28,4,1,7,8,3,3]\n",
        "\n",
        "#sort():\n",
        "print(list)\n",
        "list.sort()\n",
        "print(list)\n",
        "\n",
        "#pop():\n",
        "list.pop(2)\n",
        "print(list)\n",
        "list.pop()\n",
        "print(list)\n",
        "\n",
        "#reverse():\n",
        "list.reverse()\n",
        "print(list)\n",
        "\n",
        "#append():\n",
        "list.append(29)\n",
        "print(list)\n",
        "\n",
        "#remove():\n",
        "list.remove(56)\n",
        "print(list)\n",
        "\n",
        "#insert():\n",
        "list.insert(2,66)\n",
        "print(list)\n",
        "list.insert(16,77)\n",
        "print(list)\n",
        "\n",
        "#Combination of sort & append:\n",
        "(list.sort(),list.append(84))\n",
        "print(list)"
      ]
    }
  ]
}