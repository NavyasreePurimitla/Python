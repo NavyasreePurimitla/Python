{
  "nbformat": 4,
  "nbformat_minor": 0,
  "metadata": {
    "colab": {
      "provenance": [],
      "authorship_tag": "ABX9TyPybHpylcfC4kDyLUN1UIU3",
      "include_colab_link": true
    },
    "kernelspec": {
      "name": "python3",
      "display_name": "Python 3"
    },
    "language_info": {
      "name": "python"
    }
  },
  "cells": [
    {
      "cell_type": "markdown",
      "metadata": {
        "id": "view-in-github",
        "colab_type": "text"
      },
      "source": [
        "<a href=\"https://colab.research.google.com/github/NavyasreePurimitla/Python/blob/main/While_loop_03.ipynb\" target=\"_parent\"><img src=\"https://colab.research.google.com/assets/colab-badge.svg\" alt=\"Open In Colab\"/></a>"
      ]
    },
    {
      "cell_type": "code",
      "execution_count": 4,
      "metadata": {
        "colab": {
          "base_uri": "https://localhost:8080/"
        },
        "id": "IVv_ekt_T2lv",
        "outputId": "942f217c-b49f-4c48-fdbe-73daf6a69a1d"
      },
      "outputs": [
        {
          "output_type": "stream",
          "name": "stdout",
          "text": [
            "Sum: 5005\n",
            "\n",
            "enter the value: 4\n",
            "4\n",
            "5\n",
            "6\n",
            "7\n",
            "8\n",
            "9\n",
            "\n",
            "1\n",
            "3\n",
            "5\n",
            "7\n",
            "9\n",
            "11\n",
            "13\n",
            "15\n",
            "17\n",
            "19\n"
          ]
        }
      ],
      "source": [
        "\n",
        "# Sum numbers from 1 to 10\n",
        "total = 0\n",
        "num = 10\n",
        "while num <= 100:\n",
        "    total += num\n",
        "    num += 1\n",
        "print(\"Sum:\", total)\n",
        "print()\n",
        "# To stop when a 10 number is reached\n",
        "num = int(input(\"enter the value: \"))\n",
        "while True:\n",
        "    if num == 10:\n",
        "        break\n",
        "    print(num)\n",
        "    num += 1\n",
        "print()\n",
        "# Print only odd numbers from 1 to 20\n",
        "num = 0\n",
        "while num < 20:\n",
        "    num += 1\n",
        "    if num % 2 == 0:\n",
        "        continue\n",
        "    print(num)"
      ]
    }
  ]
}