{
  "nbformat": 4,
  "nbformat_minor": 0,
  "metadata": {
    "colab": {
      "provenance": [],
      "authorship_tag": "ABX9TyMY5JkhuuyDhNZwXNMQ764C",
      "include_colab_link": true
    },
    "kernelspec": {
      "name": "python3",
      "display_name": "Python 3"
    },
    "language_info": {
      "name": "python"
    }
  },
  "cells": [
    {
      "cell_type": "markdown",
      "metadata": {
        "id": "view-in-github",
        "colab_type": "text"
      },
      "source": [
        "<a href=\"https://colab.research.google.com/github/NavyasreePurimitla/Python/blob/main/Function_04.ipynb\" target=\"_parent\"><img src=\"https://colab.research.google.com/assets/colab-badge.svg\" alt=\"Open In Colab\"/></a>"
      ]
    },
    {
      "cell_type": "code",
      "execution_count": 2,
      "metadata": {
        "colab": {
          "base_uri": "https://localhost:8080/"
        },
        "id": "BWr_RiAbIsZr",
        "outputId": "d009ce7d-3b01-4fb6-c69f-48a2f15b023f"
      },
      "outputs": [
        {
          "output_type": "stream",
          "name": "stdout",
          "text": [
            "Company Employee Details:\n",
            "==============================\n",
            "ID: 101\n",
            "Name: Chandrika\n",
            "Department: Finance\n",
            "Salary: $50000\n",
            "------------------------------\n",
            "ID: 102\n",
            "Name: Shanthi\n",
            "Department: IT\n",
            "Salary: $60000\n",
            "------------------------------\n",
            "ID: 103\n",
            "Name: Sandeep\n",
            "Department: HR\n",
            "Salary: $45000\n",
            "------------------------------\n"
          ]
        }
      ],
      "source": [
        "\n",
        "# Define an Employee class\n",
        "class Employee:\n",
        "    def __init__(self, emp_id, name, department, salary):\n",
        "        self.emp_id = emp_id\n",
        "        self.name = name\n",
        "        self.department = department\n",
        "        self.salary = salary\n",
        "\n",
        "    def display_details(self):\n",
        "        print(f\"ID: {self.emp_id}\")\n",
        "        print(f\"Name: {self.name}\")\n",
        "        print(f\"Department: {self.department}\")\n",
        "        print(f\"Salary: ${self.salary}\")\n",
        "        print(\"-\" * 30)\n",
        "\n",
        "# Create a list to store employee objects\n",
        "employees = []\n",
        "\n",
        "# Add employee details\n",
        "employees.append(Employee(101, \"Chandrika\", \"Finance\", 50000))\n",
        "employees.append(Employee(102, \"Shanthi\", \"IT\", 60000))\n",
        "employees.append(Employee(103, \"Sandeep\", \"HR\", 45000))\n",
        "\n",
        "# Display details of all employees\n",
        "print(\"Company Employee Details:\")\n",
        "print(\"=\" * 30)\n",
        "for emp in employees:\n",
        "    emp.display_details()"
      ]
    }
  ]
}