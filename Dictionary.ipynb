{
  "nbformat": 4,
  "nbformat_minor": 0,
  "metadata": {
    "colab": {
      "provenance": [],
      "authorship_tag": "ABX9TyM3N0txvdWHqVAeXIiOj4Yy",
      "include_colab_link": true
    },
    "kernelspec": {
      "name": "python3",
      "display_name": "Python 3"
    },
    "language_info": {
      "name": "python"
    }
  },
  "cells": [
    {
      "cell_type": "markdown",
      "metadata": {
        "id": "view-in-github",
        "colab_type": "text"
      },
      "source": [
        "<a href=\"https://colab.research.google.com/github/NavyasreePurimitla/Python/blob/main/Dictionary.ipynb\" target=\"_parent\"><img src=\"https://colab.research.google.com/assets/colab-badge.svg\" alt=\"Open In Colab\"/></a>"
      ]
    },
    {
      "cell_type": "code",
      "execution_count": 3,
      "metadata": {
        "colab": {
          "base_uri": "https://localhost:8080/"
        },
        "id": "VgqaE-JPwPr-",
        "outputId": "0638f2bf-134f-4544-a182-8e1fbaf821ed"
      },
      "outputs": [
        {
          "output_type": "stream",
          "name": "stdout",
          "text": [
            "<class 'dict'>\n",
            "2\n",
            "dict_keys(['k', 'j', 6])\n",
            "dict_values([2, 5, 'g'])\n",
            "dict_items([('k', 2), ('j', 5), (6, 'g')])\n",
            "{'k': 2, 'j': 5, 6: 'g', 'l': 6}\n",
            "('k', 2)\n",
            "('j', 5)\n",
            "(6, 'g')\n",
            "('l', 6)\n"
          ]
        }
      ],
      "source": [
        "# Dictionary{}\n",
        "\n",
        "a={'k':2,'j':5,6:'g'}\n",
        "print(type(a))\n",
        "\n",
        "# get\n",
        "print(a.get('k'))\n",
        "\n",
        "# keys\n",
        "print(a.keys())\n",
        "\n",
        "# values\n",
        "print(a.values())\n",
        "\n",
        "# items\n",
        "print(a.items())\n",
        "\n",
        "# update\n",
        "a.update({'l':6})\n",
        "print(a)\n",
        "\n",
        "# for loop\n",
        "for i in a.items():\n",
        "    print(i)"
      ]
    }
  ]
}