{
  "nbformat": 4,
  "nbformat_minor": 0,
  "metadata": {
    "colab": {
      "provenance": [],
      "authorship_tag": "ABX9TyOdvAZ17S7w0wRHPNtq62vy",
      "include_colab_link": true
    },
    "kernelspec": {
      "name": "python3",
      "display_name": "Python 3"
    },
    "language_info": {
      "name": "python"
    }
  },
  "cells": [
    {
      "cell_type": "markdown",
      "metadata": {
        "id": "view-in-github",
        "colab_type": "text"
      },
      "source": [
        "<a href=\"https://colab.research.google.com/github/NavyasreePurimitla/Python/blob/main/function_05.ipynb\" target=\"_parent\"><img src=\"https://colab.research.google.com/assets/colab-badge.svg\" alt=\"Open In Colab\"/></a>"
      ]
    },
    {
      "cell_type": "code",
      "execution_count": 2,
      "metadata": {
        "colab": {
          "base_uri": "https://localhost:8080/"
        },
        "id": "pSSDX2r5o2N7",
        "outputId": "ec63925e-50c1-421b-b4e1-3ca9637f7c75"
      },
      "outputs": [
        {
          "output_type": "stream",
          "name": "stdout",
          "text": [
            "Square of 5 is: 25\n"
          ]
        }
      ],
      "source": [
        "#Basic function to calculate Square:\n",
        "def square(num):\n",
        "    return num * num\n",
        "\n",
        "result = square(5)\n",
        "print(f\"Square of 5 is: {result}\")"
      ]
    },
    {
      "cell_type": "code",
      "source": [
        "#Function with Multiple Parameter\n",
        "def add_numbers(a, b):\n",
        "    return a + b\n",
        "\n",
        "sum = add_numbers(3, 7)\n",
        "print(f\"Sum: {sum}\")"
      ],
      "metadata": {
        "colab": {
          "base_uri": "https://localhost:8080/"
        },
        "id": "H5W_l0a9peYS",
        "outputId": "8fdd42a6-fd6e-4fd7-839a-a977ca705eb0"
      },
      "execution_count": 3,
      "outputs": [
        {
          "output_type": "stream",
          "name": "stdout",
          "text": [
            "Sum: 10\n"
          ]
        }
      ]
    }
  ]
}