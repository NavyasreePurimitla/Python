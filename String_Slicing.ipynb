{
  "nbformat": 4,
  "nbformat_minor": 0,
  "metadata": {
    "colab": {
      "provenance": [],
      "authorship_tag": "ABX9TyM11Qz8P5v/Dh5iv3E0qzCs",
      "include_colab_link": true
    },
    "kernelspec": {
      "name": "python3",
      "display_name": "Python 3"
    },
    "language_info": {
      "name": "python"
    }
  },
  "cells": [
    {
      "cell_type": "markdown",
      "metadata": {
        "id": "view-in-github",
        "colab_type": "text"
      },
      "source": [
        "<a href=\"https://colab.research.google.com/github/NavyasreePurimitla/Python/blob/main/String_Slicing.ipynb\" target=\"_parent\"><img src=\"https://colab.research.google.com/assets/colab-badge.svg\" alt=\"Open In Colab\"/></a>"
      ]
    },
    {
      "cell_type": "code",
      "execution_count": null,
      "metadata": {
        "id": "HRa6tYjEYuMY"
      },
      "outputs": [],
      "source": [
        "#string slicing\n",
        "name=\"Hello! Good Morning\"\n",
        "print(name[:5])\n",
        "print(name[2:8])\n",
        "print(name[0:])\n",
        "print(name[0:-1])\n",
        "print(name[:-5])\n",
        "print(name[-8])\n"
      ]
    }
  ]
}