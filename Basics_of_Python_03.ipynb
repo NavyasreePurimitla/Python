{
  "nbformat": 4,
  "nbformat_minor": 0,
  "metadata": {
    "colab": {
      "provenance": [],
      "authorship_tag": "ABX9TyNQPp1mpj++k0nQo/pUSlWJ",
      "include_colab_link": true
    },
    "kernelspec": {
      "name": "python3",
      "display_name": "Python 3"
    },
    "language_info": {
      "name": "python"
    }
  },
  "cells": [
    {
      "cell_type": "markdown",
      "metadata": {
        "id": "view-in-github",
        "colab_type": "text"
      },
      "source": [
        "<a href=\"https://colab.research.google.com/github/NavyasreePurimitla/Python/blob/main/Basics_of_Python_03.ipynb\" target=\"_parent\"><img src=\"https://colab.research.google.com/assets/colab-badge.svg\" alt=\"Open In Colab\"/></a>"
      ]
    },
    {
      "cell_type": "markdown",
      "source": [
        "# **Data Structures**\n",
        "\n",
        "Data structures are fundamental constructs for organizing and storing data efficiently. Python offers both built-in and user-defined data structures.\n",
        "\n",
        "Built-in Data Structures:\n",
        "\n",
        "1.   Lists\n",
        "2.   Tuples\n",
        "3.   Sets\n",
        "4. Dictionaries\n",
        "\n",
        "\n"
      ],
      "metadata": {
        "id": "7JD44EdvIdaz"
      }
    },
    {
      "cell_type": "markdown",
      "source": [
        "# **Lists**\n",
        "\n",
        "Python Lists are just like arrays, declared in other languages which is an Ordered Collection of Data.\n",
        "* It is very Flexible as the items in a list do not need to be of the same type.\n",
        "* The implementation of Python List is similar to Vectors in C++ or ArrayList in JAVA.\n",
        "* The costly operation is inserting or deleting the element from theh begining of the List as all the elements are needed to be shifted.\n",
        "* Insertion and deletion at the end of the list can also become costly in the case where the preallocated memory becomes full.\n",
        "\n",
        "**O**rdered, mutable sequences of items.\n",
        "They can store heterogeneous data and allow duplicate values.\n"
      ],
      "metadata": {
        "id": "L23emC42MIzJ"
      }
    },
    {
      "cell_type": "code",
      "source": [
        "#Creating a List\n",
        "fruit_list = [\"apple\", \"banana\", \"cherry\", \"orange\"]\n",
        "print(fruit_list)"
      ],
      "metadata": {
        "colab": {
          "base_uri": "https://localhost:8080/"
        },
        "id": "ZvnMcnw9Q9ZP",
        "outputId": "ef4eb365-1c56-4f59-e5f1-8464d4e1931e"
      },
      "execution_count": 31,
      "outputs": [
        {
          "output_type": "stream",
          "name": "stdout",
          "text": [
            "['apple', 'banana', 'cherry', 'orange']\n"
          ]
        }
      ]
    },
    {
      "cell_type": "code",
      "source": [
        "#Accessing Elements\n",
        "print(fruit_list[0])\n",
        "print(fruit_list[-1])"
      ],
      "metadata": {
        "colab": {
          "base_uri": "https://localhost:8080/"
        },
        "id": "e-l364HJRdVl",
        "outputId": "fb0f8bed-483b-426e-d3d2-a690138a4594"
      },
      "execution_count": 32,
      "outputs": [
        {
          "output_type": "stream",
          "name": "stdout",
          "text": [
            "apple\n",
            "orange\n"
          ]
        }
      ]
    },
    {
      "cell_type": "markdown",
      "source": [
        "*Note:*\n",
        "\n",
        "* With the help of append function we can define the value can be added always at the end position of the structure.\n",
        "* With the help of add function we can define at which location my value should be ended."
      ],
      "metadata": {
        "id": "k79DwIV6Rnuk"
      }
    },
    {
      "cell_type": "code",
      "source": [
        "#Adding another elememt in the given fruit_list\n",
        "fruit_list.append(\"papaya\")\n",
        "print(fruit_list)"
      ],
      "metadata": {
        "colab": {
          "base_uri": "https://localhost:8080/"
        },
        "id": "I217Sv-oS46E",
        "outputId": "93cbca0a-cdf7-454d-c80b-9c4c4d24012a"
      },
      "execution_count": 33,
      "outputs": [
        {
          "output_type": "stream",
          "name": "stdout",
          "text": [
            "['apple', 'banana', 'cherry', 'orange', 'papaya']\n"
          ]
        }
      ]
    },
    {
      "cell_type": "code",
      "source": [
        "#Reverse the elements in the given fruit_list\n",
        "fruit_list.reverse()\n",
        "print(fruit_list)"
      ],
      "metadata": {
        "colab": {
          "base_uri": "https://localhost:8080/"
        },
        "id": "U4B4eG8VTVm5",
        "outputId": "915f34c6-0794-46e5-c5fe-5168d85172a1"
      },
      "execution_count": 34,
      "outputs": [
        {
          "output_type": "stream",
          "name": "stdout",
          "text": [
            "['papaya', 'orange', 'cherry', 'banana', 'apple']\n"
          ]
        }
      ]
    },
    {
      "cell_type": "code",
      "source": [
        "#Removing the element in the given fruit_list\n",
        "fruit_list.remove(\"cherry\")\n",
        "print(fruit_list)"
      ],
      "metadata": {
        "colab": {
          "base_uri": "https://localhost:8080/"
        },
        "id": "9ZYvw6itUDIw",
        "outputId": "99afdd93-447c-4ec0-f289-8b9123cde96e"
      },
      "execution_count": 35,
      "outputs": [
        {
          "output_type": "stream",
          "name": "stdout",
          "text": [
            "['papaya', 'orange', 'banana', 'apple']\n"
          ]
        }
      ]
    },
    {
      "cell_type": "code",
      "source": [
        "#Creating City_name\n",
        "city_name = [\"Delhi\", \"Mumbai\", \"Kolkata\", \"Chennai\"]\n",
        "print(city_name)"
      ],
      "metadata": {
        "colab": {
          "base_uri": "https://localhost:8080/"
        },
        "id": "sS0LV9CJVLOU",
        "outputId": "035adbc0-6154-4ee8-9c37-dd1b184ab342"
      },
      "execution_count": 36,
      "outputs": [
        {
          "output_type": "stream",
          "name": "stdout",
          "text": [
            "['Delhi', 'Mumbai', 'Kolkata', 'Chennai']\n"
          ]
        }
      ]
    },
    {
      "cell_type": "code",
      "source": [
        "#Creating a Student_name\n",
        "student_name = [\"navyasree\", \"Madhan\", \"Priya\", \"Imran\"]\n",
        "student_name"
      ],
      "metadata": {
        "colab": {
          "base_uri": "https://localhost:8080/"
        },
        "id": "FZqCLR2pVVYW",
        "outputId": "6de0bfd9-f1ab-4958-f756-46ea2d78ca81"
      },
      "execution_count": 38,
      "outputs": [
        {
          "output_type": "execute_result",
          "data": {
            "text/plain": [
              "['navyasree', 'Madhan', 'Priya', 'Imran']"
            ]
          },
          "metadata": {},
          "execution_count": 38
        }
      ]
    },
    {
      "cell_type": "markdown",
      "source": [
        "#**Indexing**\n",
        "\n",
        "Indexing refers to accessing individual elements of a sequence(like a list) using its position(index).\n",
        "\n",
        "*Note:*\n",
        "\n",
        "Python follows Zero based Indexing"
      ],
      "metadata": {
        "id": "qx_3GEMia6Ro"
      }
    },
    {
      "cell_type": "markdown",
      "source": [
        "*Note:*\n",
        "\n",
        "* In Python if we not define the starting value by default from zero index number it will start.\n",
        "* Because Python supports zero based indexing so the end value will be excluded.\n",
        "* If we want to print the last index we will let it blank."
      ],
      "metadata": {
        "id": "LqSxzdpicZVr"
      }
    },
    {
      "cell_type": "markdown",
      "source": [
        "*Note:*\n",
        "\n",
        "* Accessing a single element\n",
        "* in python the indexing starts from \"0\" and increses if we do forword indexing\n",
        "* in python the indexing starts from \"-1\" and increses(negatively) if we do backward indexing"
      ],
      "metadata": {
        "id": "H-42uTmafl6u"
      }
    },
    {
      "cell_type": "code",
      "source": [
        "#Examples of Indexing\n",
        "#Positive Indexing\n",
        "numbers = [10, 20, 30, 40, 50]\n",
        "print(numbers[3])"
      ],
      "metadata": {
        "colab": {
          "base_uri": "https://localhost:8080/"
        },
        "id": "1dAvwgy3d6Ws",
        "outputId": "613a6a0a-fdf4-4b93-ecd3-daab943513e1"
      },
      "execution_count": 39,
      "outputs": [
        {
          "output_type": "stream",
          "name": "stdout",
          "text": [
            "40\n"
          ]
        }
      ]
    },
    {
      "cell_type": "code",
      "source": [
        "#Negative Indexing\n",
        "letter = [\"a\", \"b\", \"c\", \"d\", \"e\"]\n",
        "print(letter[-2])"
      ],
      "metadata": {
        "colab": {
          "base_uri": "https://localhost:8080/"
        },
        "id": "ahIor26MfAQZ",
        "outputId": "f1d3c61c-26d8-4650-9cd4-bc07034ed15c"
      },
      "execution_count": 42,
      "outputs": [
        {
          "output_type": "stream",
          "name": "stdout",
          "text": [
            "d\n"
          ]
        }
      ]
    },
    {
      "cell_type": "code",
      "source": [
        "list = [10, 45, 78, 35, 22]\n",
        "print(list[1:4])"
      ],
      "metadata": {
        "colab": {
          "base_uri": "https://localhost:8080/"
        },
        "id": "CEyHzMG1fANX",
        "outputId": "de024a18-70cf-4198-b0bb-f6d8556eb280"
      },
      "execution_count": 46,
      "outputs": [
        {
          "output_type": "stream",
          "name": "stdout",
          "text": [
            "[45, 78, 35]\n"
          ]
        }
      ]
    },
    {
      "cell_type": "code",
      "source": [
        "print(list[2:])"
      ],
      "metadata": {
        "colab": {
          "base_uri": "https://localhost:8080/"
        },
        "id": "gERsYLtqgDlW",
        "outputId": "c9b3102d-e98f-4848-86cc-bb6b9d8b297e"
      },
      "execution_count": 44,
      "outputs": [
        {
          "output_type": "stream",
          "name": "stdout",
          "text": [
            "[78, 35, 22]\n"
          ]
        }
      ]
    },
    {
      "cell_type": "code",
      "source": [
        "print(list[2:-1:2])"
      ],
      "metadata": {
        "colab": {
          "base_uri": "https://localhost:8080/"
        },
        "id": "gR10QtFNgJEY",
        "outputId": "eb7c1bdf-0627-4702-afa3-1fb1fa42ba00"
      },
      "execution_count": 47,
      "outputs": [
        {
          "output_type": "stream",
          "name": "stdout",
          "text": [
            "[78]\n"
          ]
        }
      ]
    }
  ]
}