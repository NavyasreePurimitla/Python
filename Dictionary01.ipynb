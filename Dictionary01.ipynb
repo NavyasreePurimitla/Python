{
  "nbformat": 4,
  "nbformat_minor": 0,
  "metadata": {
    "colab": {
      "provenance": [],
      "authorship_tag": "ABX9TyOLB57S59M25yJDX8J9+B3u",
      "include_colab_link": true
    },
    "kernelspec": {
      "name": "python3",
      "display_name": "Python 3"
    },
    "language_info": {
      "name": "python"
    }
  },
  "cells": [
    {
      "cell_type": "markdown",
      "metadata": {
        "id": "view-in-github",
        "colab_type": "text"
      },
      "source": [
        "<a href=\"https://colab.research.google.com/github/NavyasreePurimitla/Python/blob/main/Dictionary01.ipynb\" target=\"_parent\"><img src=\"https://colab.research.google.com/assets/colab-badge.svg\" alt=\"Open In Colab\"/></a>"
      ]
    },
    {
      "cell_type": "code",
      "execution_count": 1,
      "metadata": {
        "colab": {
          "base_uri": "https://localhost:8080/"
        },
        "id": "1HEShwd3ADGM",
        "outputId": "e9279a34-70a0-49fb-cb1e-ef50b6ccc612"
      },
      "outputs": [
        {
          "output_type": "stream",
          "name": "stdout",
          "text": [
            "<class 'dict'>\n",
            "1\n",
            "dict_keys(['k', 'l', 6])\n",
            "dict_values([1, 3, 'g'])\n",
            "dict_items([('k', 1), ('l', 3), (6, 'g')])\n",
            "{'k': 1, 'l': 8, 6: 'g'}\n",
            "('k', 1)\n",
            "('l', 8)\n",
            "(6, 'g')\n"
          ]
        }
      ],
      "source": [
        "#Dictionary\n",
        "d={'k':1,'l':3,6:'g'}\n",
        "print(type(d))\n",
        "\n",
        "# get\n",
        "print(d.get('k'))\n",
        "\n",
        "# keys\n",
        "print(d.keys())\n",
        "\n",
        "# values\n",
        "print(d.values())\n",
        "\n",
        "# items\n",
        "print(d.items())\n",
        "\n",
        "# update\n",
        "d.update({'l':8})\n",
        "print(d)\n",
        "\n",
        "# for loop\n",
        "for i in d.items():\n",
        "    print(i)"
      ]
    }
  ]
}