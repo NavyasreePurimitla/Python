{
  "nbformat": 4,
  "nbformat_minor": 0,
  "metadata": {
    "colab": {
      "provenance": [],
      "authorship_tag": "ABX9TyOtzLw/efBN4qptOZ9RxIVu",
      "include_colab_link": true
    },
    "kernelspec": {
      "name": "python3",
      "display_name": "Python 3"
    },
    "language_info": {
      "name": "python"
    }
  },
  "cells": [
    {
      "cell_type": "markdown",
      "metadata": {
        "id": "view-in-github",
        "colab_type": "text"
      },
      "source": [
        "<a href=\"https://colab.research.google.com/github/NavyasreePurimitla/Python/blob/main/Dictionary01.ipynb\" target=\"_parent\"><img src=\"https://colab.research.google.com/assets/colab-badge.svg\" alt=\"Open In Colab\"/></a>"
      ]
    },
    {
      "cell_type": "code",
      "execution_count": 3,
      "metadata": {
        "colab": {
          "base_uri": "https://localhost:8080/"
        },
        "id": "M_VGn5SgZGc7",
        "outputId": "448d687a-de3c-48db-b28e-91d48d0be3d7"
      },
      "outputs": [
        {
          "output_type": "stream",
          "name": "stdout",
          "text": [
            "get(crow): 2\n",
            "get(parrot): 1\n",
            "get(peacock): 4\n",
            "get(pegion): 5\n",
            "get(sparrow): 10\n",
            "keys: dict_keys(['crow', 'parrot', 'peacock', 'pegion', 'sparrow'])\n",
            "values dict_values([2, 1, 4, 5, 10])\n",
            "items dict_items([('crow', 2), ('parrot', 1), ('peacock', 4), ('pegion', 5), ('sparrow', 10)])\n",
            "update {'crow': 2, 'parrot': 1, 'peacock': 4, 'pegion': 5, 'sparrow': 10, 'cats': 1}\n",
            "the loop for dictionary\n",
            "('crow', 2)\n",
            "('parrot', 1)\n",
            "('peacock', 4)\n",
            "('pegion', 5)\n",
            "('sparrow', 10)\n",
            "('cats', 1)\n"
          ]
        }
      ],
      "source": [
        "\n",
        "\n",
        "Birds = {\"crow\":2, \"parrot\":1, \"peacock\":4, \"pegion\":5, \"sparrow\":10}\n",
        "\n",
        "# used to get value crow of specified key\n",
        "print(\"get(crow):\",Birds.get('crow'))\n",
        "\n",
        "# get-crow\n",
        "# used to get value parrot of specified key\n",
        "print(\"get(parrot):\",Birds.get('parrot'))\n",
        "\n",
        "# get-peacock\n",
        "# used to get value peacock of specified key\n",
        "print(\"get(peacock):\",Birds.get('peacock'))\n",
        "\n",
        "# get-pegion\n",
        "# used to get value pegion of specified key\n",
        "print(\"get(pegion):\",Birds.get('pegion'))\n",
        "\n",
        "# get-sparrow\n",
        "# used to get value sparrow of specified key\n",
        "print(\"get(sparrow):\",Birds.get('sparrow'))\n",
        "\n",
        "# keys\n",
        "# used to get keys\n",
        "print(\"keys:\",Birds.keys())\n",
        "\n",
        "# values\n",
        "# used to get values\n",
        "print(\"values\",Birds.values())\n",
        "\n",
        "# items\n",
        "# used to get both keys and values\n",
        "print(\"items\",Birds.items())\n",
        "\n",
        "# update\n",
        "# used to add at last of items\n",
        "Birds.update({'cats':1})\n",
        "print(\"update\",Birds)\n",
        "\n",
        "# for loop\n",
        "print(\"the loop for dictionary\")\n",
        "for i in Birds.items():\n",
        "    print(i)"
      ]
    }
  ]
}