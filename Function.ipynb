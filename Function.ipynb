{
  "nbformat": 4,
  "nbformat_minor": 0,
  "metadata": {
    "colab": {
      "provenance": [],
      "authorship_tag": "ABX9TyOc9hE58MjTl648MaxfjG3B",
      "include_colab_link": true
    },
    "kernelspec": {
      "name": "python3",
      "display_name": "Python 3"
    },
    "language_info": {
      "name": "python"
    }
  },
  "cells": [
    {
      "cell_type": "markdown",
      "metadata": {
        "id": "view-in-github",
        "colab_type": "text"
      },
      "source": [
        "<a href=\"https://colab.research.google.com/github/NavyasreePurimitla/Python/blob/main/Function.ipynb\" target=\"_parent\"><img src=\"https://colab.research.google.com/assets/colab-badge.svg\" alt=\"Open In Colab\"/></a>"
      ]
    },
    {
      "cell_type": "code",
      "execution_count": 1,
      "metadata": {
        "colab": {
          "base_uri": "https://localhost:8080/"
        },
        "id": "3kH7yBLO5ba5",
        "outputId": "defaa0ec-02a4-4b03-caa3-f16a1be79b96"
      },
      "outputs": [
        {
          "output_type": "stream",
          "name": "stdout",
          "text": [
            "Hello!\n",
            "This is Honey\n",
            "From Tirupati\n",
            "Hello!\n",
            "This is Honey\n",
            "From Tirupati\n",
            "Hello!\n",
            "This is Honey\n",
            "From Tirupati\n",
            "Hello!\n",
            "This is Honey\n",
            "From Tirupati\n",
            "Hello!\n",
            "This is Honey\n",
            "From Tirupati\n",
            "Hello!\n",
            "This is Honey\n",
            "From Tirupati\n"
          ]
        }
      ],
#Syntax function:
      "source": [
        "def func():\n",
        "    print(\"Hello!\")\n",
        "    print(\"This is Honey\")\n",
        "    print(\"From Tirupati\")\n",
        "\n",
        "func()\n",
        "func()\n",
        "func()\n",
        "func()\n",
        "func()\n",
        "func()"
      ]
    }
  ]
}
