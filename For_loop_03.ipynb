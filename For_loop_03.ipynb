{
  "nbformat": 4,
  "nbformat_minor": 0,
  "metadata": {
    "colab": {
      "provenance": [],
      "authorship_tag": "ABX9TyMQe9lAlRAfTThB+1ue6qFg",
      "include_colab_link": true
    },
    "kernelspec": {
      "name": "python3",
      "display_name": "Python 3"
    },
    "language_info": {
      "name": "python"
    }
  },
  "cells": [
    {
      "cell_type": "markdown",
      "metadata": {
        "id": "view-in-github",
        "colab_type": "text"
      },
      "source": [
        "<a href=\"https://colab.research.google.com/github/NavyasreePurimitla/Python/blob/main/For_loop_03.ipynb\" target=\"_parent\"><img src=\"https://colab.research.google.com/assets/colab-badge.svg\" alt=\"Open In Colab\"/></a>"
      ]
    },
    {
      "cell_type": "code",
      "execution_count": 61,
      "metadata": {
        "colab": {
          "base_uri": "https://localhost:8080/"
        },
        "id": "cUgptG7X1ypJ",
        "outputId": "99d513b1-b98b-4e0b-c6f0-169d2180b46a"
      },
      "outputs": [
        {
          "output_type": "stream",
          "name": "stdout",
          "text": [
            "Checking the given number is Prime or Not:\n",
            "Enter the Number: 2\n",
            "\n",
            "2 is a prime Number\n"
          ]
        }
      ],
      "source": [
        "#Check whether the given number is prime or not\n",
        "print(\"Checking the given number is Prime or Not:\")\n",
        "num = int(input(\"Enter the Number: \"))\n",
        "print()\n",
        "for i in range(2,num):\n",
        "  if num % i == 0:\n",
        "    print(num, \"is not a Prime Number\")\n",
        "    break\n",
        "else:\n",
        "  print(num, \"is a prime Number\")"
      ]
    },
    {
      "cell_type": "code",
      "source": [
        "#Check whether the given number is Even or Odd\n",
        "print(\"Checking the given number is Even or Odd:\")\n",
        "num = int(input(\"Enter the Number: \"))\n",
        "print()\n",
        "for i in range(0,num):\n",
        "  if num % 2 == 0:\n",
        "    print(num, \"is an Even Number\")\n",
        "    break\n",
        "else:\n",
        "  print(num, \"is an Odd Number\")"
      ],
      "metadata": {
        "colab": {
          "base_uri": "https://localhost:8080/"
        },
        "id": "IiUb6HxOD-OQ",
        "outputId": "f486db25-a178-4810-9f34-8a1c77c0b556"
      },
      "execution_count": 70,
      "outputs": [
        {
          "output_type": "stream",
          "name": "stdout",
          "text": [
            "Checking the given number is Even or Odd:\n",
            "Enter the Number: 3\n",
            "\n",
            "3 is an Odd Number\n"
          ]
        }
      ]
    },
    {
      "cell_type": "code",
      "source": [
        "# Whole Numbers\n",
        "n=int(input(\"Enter the Number: \"))\n",
        "print(\"Whole Numbers: \")\n",
        "print()\n",
        "for i in range(0,n):\n",
        "  print(i)\n",
        ""
      ],
      "metadata": {
        "colab": {
          "base_uri": "https://localhost:8080/"
        },
        "id": "NTp0fkaUF65W",
        "outputId": "03acc130-baf1-4e04-8180-eab58c0d275e"
      },
      "execution_count": 78,
      "outputs": [
        {
          "output_type": "stream",
          "name": "stdout",
          "text": [
            "Enter the Number: 20\n",
            "Whole Numbers: \n",
            "\n",
            "0\n",
            "1\n",
            "2\n",
            "3\n",
            "4\n",
            "5\n",
            "6\n",
            "7\n",
            "8\n",
            "9\n",
            "10\n",
            "11\n",
            "12\n",
            "13\n",
            "14\n",
            "15\n",
            "16\n",
            "17\n",
            "18\n",
            "19\n"
          ]
        }
      ]
    },
    {
      "cell_type": "code",
      "source": [
        "# Natural Numbers\n",
        "a=int(input(\"Enter the Number: \"))\n",
        "print(\"Natural Numbers: \")\n",
        "print()\n",
        "for i in range(1,a):\n",
        "  print(i)"
      ],
      "metadata": {
        "colab": {
          "base_uri": "https://localhost:8080/"
        },
        "id": "xRcAdtqcGwyw",
        "outputId": "44d89c75-e5cf-46e5-ba80-71d37938fc80"
      },
      "execution_count": 77,
      "outputs": [
        {
          "output_type": "stream",
          "name": "stdout",
          "text": [
            "Enter the Number: 20\n",
            "Natural Numbers: \n",
            "\n",
            "1\n",
            "2\n",
            "3\n",
            "4\n",
            "5\n",
            "6\n",
            "7\n",
            "8\n",
            "9\n",
            "10\n",
            "11\n",
            "12\n",
            "13\n",
            "14\n",
            "15\n",
            "16\n",
            "17\n",
            "18\n",
            "19\n"
          ]
        }
      ]
    }
  ]
}