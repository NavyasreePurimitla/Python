{
  "nbformat": 4,
  "nbformat_minor": 0,
  "metadata": {
    "colab": {
      "provenance": [],
      "authorship_tag": "ABX9TyMcf4/Ee3LUYK5mXJ8LO1x+",
      "include_colab_link": true
    },
    "kernelspec": {
      "name": "python3",
      "display_name": "Python 3"
    },
    "language_info": {
      "name": "python"
    }
  },
  "cells": [
    {
      "cell_type": "markdown",
      "metadata": {
        "id": "view-in-github",
        "colab_type": "text"
      },
      "source": [
        "<a href=\"https://colab.research.google.com/github/NavyasreePurimitla/Python/blob/main/Practice02.ipynb\" target=\"_parent\"><img src=\"https://colab.research.google.com/assets/colab-badge.svg\" alt=\"Open In Colab\"/></a>"
      ]
    },
    {
      "cell_type": "code",
      "source": [
        "# Creating a list\n",
        "cars = [\"tata\", \"altroz\", \"swaft\"]\n",
        "print(cars)\n",
        "\n",
        "# Accessing elements\n",
        "print(\"Accessing elements\")\n",
        "print(cars[0])\n",
        "print(cars[1])\n",
        "\n",
        "# Adding elements\n",
        "# append-adds element at last\n",
        "cars.append(\"rr\")\n",
        "print(f\"append{cars}\")\n",
        "\n",
        "# Removing elements\n",
        "# remove-Removes by value\n",
        "# pop-removes by index, returns removed item\n",
        "cars.remove(\"tata\")\n",
        "print(cars)\n",
        "popped = cars.pop(1)\n",
        "print(popped)\n",
        "print(cars)"
      ],
      "metadata": {
        "colab": {
          "base_uri": "https://localhost:8080/"
        },
        "id": "HWtz8GwNiAGm",
        "outputId": "b6d1e547-0fd9-4887-e544-6e3102159c2f"
      },
      "execution_count": 4,
      "outputs": [
        {
          "output_type": "stream",
          "name": "stdout",
          "text": [
            "['tata', 'altroz', 'swaft']\n",
            "Accessing elements\n",
            "tata\n",
            "altroz\n",
            "append['tata', 'altroz', 'swaft', 'rr']\n",
            "['altroz', 'swaft', 'rr']\n",
            "swaft\n",
            "['altroz', 'rr']\n"
          ]
        }
      ]
    }
  ]
}