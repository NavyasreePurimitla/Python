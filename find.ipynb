{
  "nbformat": 4,
  "nbformat_minor": 0,
  "metadata": {
    "colab": {
      "provenance": [],
      "authorship_tag": "ABX9TyOAMnrdUkv/jTiSer9X35Qw",
      "include_colab_link": true
    },
    "kernelspec": {
      "name": "python3",
      "display_name": "Python 3"
    },
    "language_info": {
      "name": "python"
    }
  },
  "cells": [
    {
      "cell_type": "markdown",
      "metadata": {
        "id": "view-in-github",
        "colab_type": "text"
      },
      "source": [
        "<a href=\"https://colab.research.google.com/github/NavyasreePurimitla/Python/blob/main/find.ipynb\" target=\"_parent\"><img src=\"https://colab.research.google.com/assets/colab-badge.svg\" alt=\"Open In Colab\"/></a>"
      ]
    },
    {
      "cell_type": "code",
      "execution_count": 1,
      "metadata": {
        "colab": {
          "base_uri": "https://localhost:8080/"
        },
        "id": "m64XMqCS-qnd",
        "outputId": "7640d58a-d587-4a8f-987b-1373863dd240"
      },
      "outputs": [
        {
          "output_type": "stream",
          "name": "stdout",
          "text": [
            "Enter the value to start: 20\n",
            "Enter The value to End: 40\n",
            "enter the value to skip rate of numbers: 2\n",
            "20\n",
            "22\n",
            "24\n",
            "26\n",
            "28\n",
            "30\n",
            "32\n",
            "34\n",
            "36\n",
            "38\n",
            "Enter the value to start: 20\n",
            "Enter The value to End: 40\n",
            "20\n",
            "21\n",
            "22\n",
            "23\n",
            "24\n",
            "25\n",
            "26\n",
            "27\n",
            "28\n",
            "29\n",
            "30\n",
            "31\n",
            "32\n",
            "33\n",
            "34\n",
            "35\n",
            "36\n",
            "37\n",
            "38\n",
            "39\n"
          ]
        }
      ],
      "source": [
        "# To find the whole numbers method-1\n",
        "for i in range(int(input(\"Enter the value to start: \")),\n",
        "int(input(\"Enter The value to End: \")),\n",
        "int(input(\"enter the value to skip rate of numbers: \"))):\n",
        "   print(i)\n",
        "\n",
        "# To find the whole numbers method-2\n",
        "for i in range(int(input(\"Enter the value to start: \")),\n",
        "int(input(\"Enter The value to End: \"))):\n",
        "   print(i)"
      ]
    },
    {
      "cell_type": "code",
      "source": [
        "# To find out the grade of an student\n",
        "A=input(\"Enter the student name to findout grade: \")\n",
        "B=float(input(\"Enter the Marks of the student: \"))\n",
        "if B<=100 and B>90:print(\"S grade\")\n",
        "elif B>=80:print(\"A grade\")\n",
        "elif B>=70:print(\"B grade\")\n",
        "elif B>=60:print(\"C grade\")\n",
        "elif B>=50:print(\"D grade\")\n",
        "elif B>=40:print(\"E grade\")\n",
        "else:print(\"Fail\")"
      ],
      "metadata": {
        "colab": {
          "base_uri": "https://localhost:8080/"
        },
        "id": "lqUZmrPv_EZU",
        "outputId": "d20a4a47-31e8-49a1-f2be-21a1eb3a81c0"
      },
      "execution_count": 3,
      "outputs": [
        {
          "output_type": "stream",
          "name": "stdout",
          "text": [
            "Enter the student name to findout grade: Navyasree\n",
            "Enter the Marks of the student: 100\n",
            "S grade\n"
          ]
        }
      ]
    }
  ]
}