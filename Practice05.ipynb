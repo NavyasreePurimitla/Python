{
  "nbformat": 4,
  "nbformat_minor": 0,
  "metadata": {
    "colab": {
      "provenance": [],
      "authorship_tag": "ABX9TyN2j2+2t9LrhSlRcBqyqSg3",
      "include_colab_link": true
    },
    "kernelspec": {
      "name": "python3",
      "display_name": "Python 3"
    },
    "language_info": {
      "name": "python"
    }
  },
  "cells": [
    {
      "cell_type": "markdown",
      "metadata": {
        "id": "view-in-github",
        "colab_type": "text"
      },
      "source": [
        "<a href=\"https://colab.research.google.com/github/NavyasreePurimitla/Python/blob/main/Practice05.ipynb\" target=\"_parent\"><img src=\"https://colab.research.google.com/assets/colab-badge.svg\" alt=\"Open In Colab\"/></a>"
      ]
    },
    {
      "cell_type": "code",
      "execution_count": 11,
      "metadata": {
        "id": "u7lV8KTdK9vg",
        "colab": {
          "base_uri": "https://localhost:8080/"
        },
        "outputId": "9eea6111-7790-486b-b787-e4add1d574c0"
      },
      "outputs": [
        {
          "output_type": "stream",
          "name": "stdout",
          "text": [
            "Best in photography\n"
          ]
        }
      ],
      "source": [
        "\n",
        "#if, elif, else:\n",
        "\n",
        "if A == \"Apple\":\n",
        "    print(\"Best in Security\")\n",
        "elif A == \"Samsung\":\n",
        "    print(\"Best in innovation\")\n",
        "elif A == \"Google Pixel\":\n",
        "    print(\"Best in photography\")\n",
        "elif A == \"Motorola\":\n",
        "    print(\"Best in Budget\")\n",
        "elif A == \"Mi\":\n",
        "    print(\"Value for Money\")\n",
        "elif A == \"Vivo\":\n",
        "    print(\"Best In Looks\")\n",
        "elif A == \"IQOO\":\n",
        "    print(\"Fastest Mobiles\")\n",
        "elif A == \"One plus\":\n",
        "    print(\"Premium Feel\")\n",
        "elif A == \"Oppo\":\n",
        "    print(\"Best in Camera\")\n",
        "else:\n",
        "    print(\"Research About The Brand Before You Buy\")"
      ]
    }
  ]
}