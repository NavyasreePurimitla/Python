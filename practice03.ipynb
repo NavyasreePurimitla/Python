{
  "nbformat": 4,
  "nbformat_minor": 0,
  "metadata": {
    "colab": {
      "provenance": [],
      "authorship_tag": "ABX9TyM5rNKZJED6e5n8JRfKeoO/",
      "include_colab_link": true
    },
    "kernelspec": {
      "name": "python3",
      "display_name": "Python 3"
    },
    "language_info": {
      "name": "python"
    }
  },
  "cells": [
    {
      "cell_type": "markdown",
      "metadata": {
        "id": "view-in-github",
        "colab_type": "text"
      },
      "source": [
        "<a href=\"https://colab.research.google.com/github/NavyasreePurimitla/Python/blob/main/practice03.ipynb\" target=\"_parent\"><img src=\"https://colab.research.google.com/assets/colab-badge.svg\" alt=\"Open In Colab\"/></a>"
      ]
    },
    {
      "cell_type": "code",
      "execution_count": 1,
      "metadata": {
        "colab": {
          "base_uri": "https://localhost:8080/"
        },
        "id": "igoL65quu8DU",
        "outputId": "a89a28db-08ed-4fa3-bc05-972c269706d6"
      },
      "outputs": [
        {
          "output_type": "stream",
          "name": "stdout",
          "text": [
            "My name is Navyasree and I am 22 years old.\n",
            "True\n",
            "True\n",
            "False\n",
            "True\n",
            "False\n",
            "['apple', 'grapes', 'dragon fruit']\n",
            "apple-grapes-dragon fruit\n"
          ]
        }
      ],
      "source": [
        "# String\n",
        "name = \"Navyasree\"\n",
        "age = 22\n",
        "message = f\"My name is {name} and I am {age} years old.\"\n",
        "print(message)\n",
        "\n",
        "sentence = \"Python Is An Highlevel language\"\n",
        "print(\"Python\" in sentence)\n",
        "print(sentence.startswith(\"Pyth\"))\n",
        "print(sentence.startswith(\"I\"))\n",
        "print(sentence.endswith(\"e\"))\n",
        "print(sentence.endswith(\"Python\"))\n",
        "\n",
        "# Splitting a string into a list\n",
        "fruits = \"apple,grapes,dragon fruit\"\n",
        "fruit_list = fruits.split(\",\")\n",
        "print(fruit_list)\n",
        "\n",
        "# Joining a list into a string\n",
        "joined_fruits = \"-\".join(fruit_list)\n",
        "print(joined_fruits)"
      ]
    }
  ]
}